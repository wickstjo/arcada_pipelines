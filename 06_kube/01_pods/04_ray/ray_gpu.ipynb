{
 "cells": [
  {
   "cell_type": "code",
   "execution_count": null,
   "id": "7fed45b9-780d-4a08-b2d6-5c9bc3218081",
   "metadata": {},
   "outputs": [],
   "source": [
    "# !pip install ray ray[tune]"
   ]
  },
  {
   "cell_type": "code",
   "execution_count": 1,
   "id": "2ea7ebb3-7903-42a1-9716-3169fd55d635",
   "metadata": {},
   "outputs": [],
   "source": [
    "import ray, json, math, re"
   ]
  },
  {
   "cell_type": "code",
   "execution_count": 2,
   "id": "c2136cea-a021-4281-8c47-46c44aa08a6d",
   "metadata": {},
   "outputs": [],
   "source": [
    "def available_gpus():\n",
    "    base = ray.available_resources().get('GPU')\n",
    "    if base: return int(base)\n",
    "    return 0"
   ]
  },
  {
   "cell_type": "code",
   "execution_count": 3,
   "id": "79f56c97-04e8-4600-a944-4d80ca496971",
   "metadata": {},
   "outputs": [],
   "source": [
    "def pprint(data):\n",
    "    print(json.dumps(data, indent=4))"
   ]
  },
  {
   "cell_type": "code",
   "execution_count": 4,
   "id": "fc3f7e4d-f4d4-4940-9fbd-b10788801720",
   "metadata": {},
   "outputs": [
    {
     "name": "stderr",
     "output_type": "stream",
     "text": [
      "2024-11-08 02:24:34,607\tINFO client_builder.py:244 -- Passing the following kwargs to ray.init() on the server: log_to_driver\n",
      "SIGTERM handler is not set because current thread is not the main thread.\n",
      "2024-11-08 02:24:38,486\tWARNING utils.py:1591 -- Python patch version mismatch: The cluster was started with:\n",
      "    Ray: 2.38.0\n",
      "    Python: 3.12.7\n",
      "This process on Ray Client was started with:\n",
      "    Ray: 2.38.0\n",
      "    Python: 3.12.3\n",
      "\n"
     ]
    },
    {
     "data": {
      "application/vnd.jupyter.widget-view+json": {
       "model_id": "c8f3fee7fc6c4b6882f5f5652792e15b",
       "version_major": 2,
       "version_minor": 0
      },
      "text/html": [
       "<div class=\"lm-Widget p-Widget lm-Panel p-Panel jp-Cell-outputWrapper\">\n",
       "    <div style=\"margin-left: 50px;display: flex;flex-direction: row;align-items: center\">\n",
       "        <div class=\"jp-RenderedHTMLCommon\" style=\"display: flex; flex-direction: row;\">\n",
       "  <svg viewBox=\"0 0 567 224\" fill=\"none\" xmlns=\"http://www.w3.org/2000/svg\" style=\"height: 3em;\">\n",
       "    <g clip-path=\"url(#clip0_4338_178347)\">\n",
       "        <path d=\"M341.29 165.561H355.29L330.13 129.051C345.63 123.991 354.21 112.051 354.21 94.2307C354.21 71.3707 338.72 58.1807 311.88 58.1807H271V165.561H283.27V131.661H311.8C314.25 131.661 316.71 131.501 319.01 131.351L341.25 165.561H341.29ZM283.29 119.851V70.0007H311.82C331.3 70.0007 342.34 78.2907 342.34 94.5507C342.34 111.271 331.34 119.861 311.82 119.861L283.29 119.851ZM451.4 138.411L463.4 165.561H476.74L428.74 58.1807H416L367.83 165.561H380.83L392.83 138.411H451.4ZM446.19 126.601H398L422 72.1407L446.24 126.601H446.19ZM526.11 128.741L566.91 58.1807H554.35L519.99 114.181L485.17 58.1807H472.44L514.01 129.181V165.541H526.13V128.741H526.11Z\" fill=\"var(--jp-ui-font-color0)\"/>\n",
       "        <path d=\"M82.35 104.44C84.0187 97.8827 87.8248 92.0678 93.1671 87.9146C98.5094 83.7614 105.083 81.5067 111.85 81.5067C118.617 81.5067 125.191 83.7614 130.533 87.9146C135.875 92.0678 139.681 97.8827 141.35 104.44H163.75C164.476 101.562 165.622 98.8057 167.15 96.2605L127.45 56.5605C121.071 60.3522 113.526 61.6823 106.235 60.3005C98.9443 58.9187 92.4094 54.9203 87.8602 49.0574C83.3109 43.1946 81.0609 35.8714 81.5332 28.4656C82.0056 21.0599 85.1679 14.0819 90.4252 8.8446C95.6824 3.60726 102.672 0.471508 110.08 0.0272655C117.487 -0.416977 124.802 1.86091 130.647 6.4324C136.493 11.0039 140.467 17.5539 141.821 24.8501C143.175 32.1463 141.816 39.6859 138 46.0505L177.69 85.7505C182.31 82.9877 187.58 81.4995 192.962 81.4375C198.345 81.3755 203.648 82.742 208.33 85.3976C213.012 88.0532 216.907 91.9029 219.616 96.5544C222.326 101.206 223.753 106.492 223.753 111.875C223.753 117.258 222.326 122.545 219.616 127.197C216.907 131.848 213.012 135.698 208.33 138.353C203.648 141.009 198.345 142.375 192.962 142.313C187.58 142.251 182.31 140.763 177.69 138L138 177.7C141.808 184.071 143.155 191.614 141.79 198.91C140.424 206.205 136.44 212.75 130.585 217.313C124.731 221.875 117.412 224.141 110.004 223.683C102.596 223.226 95.6103 220.077 90.3621 214.828C85.1139 209.58 81.9647 202.595 81.5072 195.187C81.0497 187.779 83.3154 180.459 87.878 174.605C92.4405 168.751 98.9853 164.766 106.281 163.401C113.576 162.035 121.119 163.383 127.49 167.19L167.19 127.49C165.664 124.941 164.518 122.182 163.79 119.3H141.39C139.721 125.858 135.915 131.673 130.573 135.826C125.231 139.98 118.657 142.234 111.89 142.234C105.123 142.234 98.5494 139.98 93.2071 135.826C87.8648 131.673 84.0587 125.858 82.39 119.3H60C58.1878 126.495 53.8086 132.78 47.6863 136.971C41.5641 141.163 34.1211 142.972 26.7579 142.059C19.3947 141.146 12.6191 137.574 7.70605 132.014C2.79302 126.454 0.0813599 119.29 0.0813599 111.87C0.0813599 104.451 2.79302 97.2871 7.70605 91.7272C12.6191 86.1673 19.3947 82.5947 26.7579 81.6817C34.1211 80.7686 41.5641 82.5781 47.6863 86.7696C53.8086 90.9611 58.1878 97.2456 60 104.44H82.35ZM100.86 204.32C103.407 206.868 106.759 208.453 110.345 208.806C113.93 209.159 117.527 208.258 120.522 206.256C123.517 204.254 125.725 201.276 126.771 197.828C127.816 194.38 127.633 190.677 126.253 187.349C124.874 184.021 122.383 181.274 119.205 179.577C116.027 177.88 112.359 177.337 108.826 178.042C105.293 178.746 102.113 180.654 99.8291 183.44C97.5451 186.226 96.2979 189.718 96.3 193.32C96.2985 195.364 96.7006 197.388 97.4831 199.275C98.2656 201.163 99.4132 202.877 100.86 204.32ZM204.32 122.88C206.868 120.333 208.453 116.981 208.806 113.396C209.159 109.811 208.258 106.214 206.256 103.219C204.254 100.223 201.275 98.0151 197.827 96.97C194.38 95.9249 190.676 96.1077 187.348 97.4873C184.02 98.8669 181.274 101.358 179.577 104.536C177.879 107.714 177.337 111.382 178.041 114.915C178.746 118.448 180.653 121.627 183.439 123.911C186.226 126.195 189.717 127.443 193.32 127.44C195.364 127.443 197.388 127.042 199.275 126.259C201.163 125.476 202.878 124.328 204.32 122.88ZM122.88 19.4205C120.333 16.8729 116.981 15.2876 113.395 14.9347C109.81 14.5817 106.213 15.483 103.218 17.4849C100.223 19.4868 98.0146 22.4654 96.9696 25.9131C95.9245 29.3608 96.1073 33.0642 97.4869 36.3922C98.8665 39.7202 101.358 42.4668 104.535 44.1639C107.713 45.861 111.381 46.4036 114.914 45.6992C118.447 44.9949 121.627 43.0871 123.911 40.301C126.195 37.515 127.442 34.0231 127.44 30.4205C127.44 28.3772 127.038 26.3539 126.255 24.4664C125.473 22.5788 124.326 20.8642 122.88 19.4205ZM19.42 100.86C16.8725 103.408 15.2872 106.76 14.9342 110.345C14.5813 113.93 15.4826 117.527 17.4844 120.522C19.4863 123.518 22.4649 125.726 25.9127 126.771C29.3604 127.816 33.0638 127.633 36.3918 126.254C39.7198 124.874 42.4664 122.383 44.1635 119.205C45.8606 116.027 46.4032 112.359 45.6988 108.826C44.9944 105.293 43.0866 102.114 40.3006 99.8296C37.5145 97.5455 34.0227 96.2983 30.42 96.3005C26.2938 96.3018 22.337 97.9421 19.42 100.86ZM100.86 100.86C98.3125 103.408 96.7272 106.76 96.3742 110.345C96.0213 113.93 96.9226 117.527 98.9244 120.522C100.926 123.518 103.905 125.726 107.353 126.771C110.8 127.816 114.504 127.633 117.832 126.254C121.16 124.874 123.906 122.383 125.604 119.205C127.301 116.027 127.843 112.359 127.139 108.826C126.434 105.293 124.527 102.114 121.741 99.8296C118.955 97.5455 115.463 96.2983 111.86 96.3005C109.817 96.299 107.793 96.701 105.905 97.4835C104.018 98.2661 102.303 99.4136 100.86 100.86Z\" fill=\"#00AEEF\"/>\n",
       "    </g>\n",
       "    <defs>\n",
       "        <clipPath id=\"clip0_4338_178347\">\n",
       "            <rect width=\"566.93\" height=\"223.75\" fill=\"white\"/>\n",
       "        </clipPath>\n",
       "    </defs>\n",
       "  </svg>\n",
       "</div>\n",
       "\n",
       "        <table class=\"jp-RenderedHTMLCommon\" style=\"border-collapse: collapse;color: var(--jp-ui-font-color1);font-size: var(--jp-ui-font-size1);\">\n",
       "    <tr>\n",
       "        <td style=\"text-align: left\"><b>Python version:</b></td>\n",
       "        <td style=\"text-align: left\"><b>3.12.7</b></td>\n",
       "    </tr>\n",
       "    <tr>\n",
       "        <td style=\"text-align: left\"><b>Ray version:</b></td>\n",
       "        <td style=\"text-align: left\"><b>2.38.0</b></td>\n",
       "    </tr>\n",
       "    <tr>\n",
       "    <td style=\"text-align: left\"><b>Dashboard:</b></td>\n",
       "    <td style=\"text-align: left\"><b><a href=\"http://10.151.173.92:8265\" target=\"_blank\">http://10.151.173.92:8265</a></b></td>\n",
       "</tr>\n",
       "\n",
       "</table>\n",
       "\n",
       "    </div>\n",
       "</div>\n"
      ],
      "text/plain": [
       "ClientContext(dashboard_url='10.151.173.92:8265', python_version='3.12.7', ray_version='2.38.0', ray_commit='385ee466260ef3cd218d5e372aef5d39338b7b94', _num_clients=1, _context_to_restore=<ray.util.client._ClientContext object at 0x7db1461e3740>, protocol_version=None)"
      ]
     },
     "execution_count": 4,
     "metadata": {},
     "output_type": "execute_result"
    }
   ],
   "source": [
    "ray.init(address='ray://193.167.37.127:10001')"
   ]
  },
  {
   "cell_type": "code",
   "execution_count": null,
   "id": "5203cbd1-70b6-4c0c-a786-cbaa1f6962a6",
   "metadata": {},
   "outputs": [],
   "source": []
  },
  {
   "cell_type": "code",
   "execution_count": null,
   "id": "c9cc5de3-78c3-47de-a798-f20d7ccca4b9",
   "metadata": {},
   "outputs": [],
   "source": []
  },
  {
   "cell_type": "code",
   "execution_count": null,
   "id": "5e05db26-a09f-44d9-a973-8af15da00833",
   "metadata": {},
   "outputs": [],
   "source": []
  },
  {
   "cell_type": "code",
   "execution_count": null,
   "id": "b4fddd80-5568-48fc-b304-e385b70536a7",
   "metadata": {},
   "outputs": [],
   "source": []
  },
  {
   "cell_type": "markdown",
   "id": "f5ff1d46-8545-4a07-978f-d0b8da816242",
   "metadata": {},
   "source": [
    "# NAIVE MASS-GPU COMPUTATION"
   ]
  },
  {
   "cell_type": "code",
   "execution_count": null,
   "id": "368a3a5f-c75c-4d42-a45d-7abeb6e8db94",
   "metadata": {},
   "outputs": [],
   "source": [
    "# @ray.remote(num_gpus=1, scheduling_strategy=\"DEFAULT\")\n",
    "# @ray.remote(num_cpus=1, scheduling_strategy=\"SPREAD\")"
   ]
  },
  {
   "cell_type": "code",
   "execution_count": 5,
   "id": "c8c60864-53c2-4472-ac78-54db8002cd5b",
   "metadata": {},
   "outputs": [],
   "source": [
    "@ray.remote(num_gpus=1)\n",
    "def gpu_stress_test():\n",
    "    import torch, time\n",
    "    torch.cuda.set_device(0)\n",
    "\n",
    "    # FIND WHAT GPU WERE USING\n",
    "    my_gpu = torch.cuda.get_device_name(0)\n",
    "\n",
    "    MATRIX_SIZE, ITERATIONS = 4096, 100\n",
    "    start_time = time.time()\n",
    "    \n",
    "    matrix_a = torch.randn((MATRIX_SIZE, MATRIX_SIZE), device='cuda')\n",
    "    matrix_b = torch.randn((MATRIX_SIZE, MATRIX_SIZE), device='cuda')\n",
    "\n",
    "    for _ in range(ITERATIONS):\n",
    "        result = torch.matmul(matrix_a, matrix_b)\n",
    "\n",
    "        del result\n",
    "        torch.cuda.empty_cache()\n",
    "\n",
    "    return (my_gpu, time.time() - start_time)"
   ]
  },
  {
   "cell_type": "code",
   "execution_count": 7,
   "id": "9270c43d-fb7a-4cf8-b5d6-bc70947ef8db",
   "metadata": {},
   "outputs": [],
   "source": [
    "# MAKE SURE ALL THREE GPUS ARE AVAILABLE\n",
    "assert available_gpus() == 3, 'EXPECTED AMOUNT OF GPUS NOT AVAILABLE'\n",
    "\n",
    "NUM_TASKS = 100\n",
    "tasks = [gpu_stress_test.remote() for x in range(NUM_TASKS)]\n",
    "task_durations = ray.get(tasks)"
   ]
  },
  {
   "cell_type": "markdown",
   "id": "b197416f-4b37-4742-adcd-5ef9f0936f8d",
   "metadata": {},
   "source": [
    "### EXPERIMENT GRAFANA OUTPUT"
   ]
  },
  {
   "cell_type": "markdown",
   "id": "18362f0f-7d50-4d58-9a62-f1605cea0731",
   "metadata": {},
   "source": [
    "<center><img src=\"naive_profile.png\" /></center>"
   ]
  },
  {
   "cell_type": "markdown",
   "id": "9d284006-b1b8-4ec6-9d8d-b16dbd9ad499",
   "metadata": {},
   "source": [
    "### HOW MUCH BETTER IS A 4090 THAN A TITAN?"
   ]
  },
  {
   "cell_type": "code",
   "execution_count": 10,
   "id": "014b358a-4b4e-4186-9cde-e28856cfde55",
   "metadata": {},
   "outputs": [],
   "source": [
    "def avg_times(task_durations):\n",
    "    averages = {}\n",
    "    ratios = {}\n",
    "\n",
    "    # AGGREGATE EACH SUBTASK DURATION PER GPU\n",
    "    for gpu_name, task_duration in task_durations:\n",
    "        if gpu_name not in averages:\n",
    "            averages[gpu_name] = []\n",
    "\n",
    "        averages[gpu_name].append(task_duration)\n",
    "\n",
    "    max_name_length = max(len(name) for name in averages.keys())\n",
    "\n",
    "    # FIND THE AVERAGE DURATION FOR EACH GPU\n",
    "    for gpu, values in averages.items():\n",
    "        averages[gpu] = round(sum(values) / len(values), 3)\n",
    "\n",
    "    # WHAT GPU IS SLOWEST\n",
    "    slowest_duration = max(averages.values())\n",
    "\n",
    "    # FIND RATIOS\n",
    "    for gpu, avg_value in averages.items():\n",
    "        ratios[gpu] =  round(slowest_duration / avg_value, 3)\n",
    "\n",
    "    return {\n",
    "        'avg_durations': averages,\n",
    "        'ratios': ratios\n",
    "    }"
   ]
  },
  {
   "cell_type": "code",
   "execution_count": 11,
   "id": "be55a246-74d3-46c3-99e4-8a3707f3a6d9",
   "metadata": {
    "scrolled": true
   },
   "outputs": [
    {
     "name": "stdout",
     "output_type": "stream",
     "text": [
      "{\n",
      "    \"avg_durations\": {\n",
      "        \"NVIDIA GeForce RTX 4090\": 0.468,\n",
      "        \"NVIDIA GeForce GTX TITAN X\": 3.069\n",
      "    },\n",
      "    \"ratios\": {\n",
      "        \"NVIDIA GeForce RTX 4090\": 6.558,\n",
      "        \"NVIDIA GeForce GTX TITAN X\": 1.0\n",
      "    }\n",
      "}\n"
     ]
    }
   ],
   "source": [
    "naive_analysis = avg_times(task_durations)\n",
    "pprint(naive_analysis)"
   ]
  },
  {
   "cell_type": "code",
   "execution_count": null,
   "id": "1af5d852-8c1f-472a-9c17-1329ebb78add",
   "metadata": {},
   "outputs": [],
   "source": []
  },
  {
   "cell_type": "code",
   "execution_count": null,
   "id": "81e1e0e0-b913-45aa-afcf-61564337695a",
   "metadata": {},
   "outputs": [],
   "source": []
  },
  {
   "cell_type": "code",
   "execution_count": null,
   "id": "1da89c7a-a6e9-4387-8536-818ddca44f1c",
   "metadata": {},
   "outputs": [],
   "source": []
  },
  {
   "cell_type": "code",
   "execution_count": null,
   "id": "f21111ba-8922-4cf0-bf12-0cf6c700bbf7",
   "metadata": {},
   "outputs": [],
   "source": []
  },
  {
   "cell_type": "markdown",
   "id": "7c3b7a99-ce98-4e7a-b821-9ac0b82256cc",
   "metadata": {},
   "source": [
    "# OPTIMIZED GPU SOLUTION"
   ]
  },
  {
   "cell_type": "markdown",
   "id": "5a9d65bf-16b7-48e6-9f0a-58064e01851b",
   "metadata": {},
   "source": [
    "### REGISTER ONE GPU_ACTOR ON EACH CLUSTER NODE WITH A GPU"
   ]
  },
  {
   "cell_type": "code",
   "execution_count": 12,
   "id": "d2c1fa15-b321-4ad6-9620-3496e6cbc79d",
   "metadata": {},
   "outputs": [],
   "source": [
    "@ray.remote(num_gpus=1)\n",
    "class gpu_actor:\n",
    "    def __init__(self):\n",
    "        self.my_gpu = self.detect_gpu()\n",
    "\n",
    "    # DETECT WHAT GPU ACTOR HAS RESERVED\n",
    "    def detect_gpu(self):\n",
    "        import torch\n",
    "        return torch.cuda.get_device_name(0)\n",
    "\n",
    "    # DO MATRIX MULTIPLICATION TO STRESSTEST\n",
    "    def perform_work(self):\n",
    "        import torch, time\n",
    "        \n",
    "        MATRIX_SIZE, ITERATIONS = 4096, 100\n",
    "\n",
    "        matrix_a = torch.randn((MATRIX_SIZE, MATRIX_SIZE), device='cuda')\n",
    "        matrix_b = torch.randn((MATRIX_SIZE, MATRIX_SIZE), device='cuda')\n",
    "    \n",
    "        start_time = time.time()\n",
    "        for _ in range(ITERATIONS):\n",
    "            result = torch.matmul(matrix_a, matrix_b)\n",
    "    \n",
    "            del result\n",
    "            torch.cuda.empty_cache()\n",
    "\n",
    "        return (self.my_gpu, time.time() - start_time)"
   ]
  },
  {
   "cell_type": "markdown",
   "id": "4b656a0e-86f2-4eba-a732-605d4ab34e00",
   "metadata": {},
   "source": [
    "### BASED ON A RELATIVE POWER RATIO\n",
    "### FIGURE OUT HOW TO SPLIT n TASKS EVENLY AMONG x GPUS"
   ]
  },
  {
   "cell_type": "code",
   "execution_count": 13,
   "id": "06c991fa-3231-4ca0-8062-d8089a64e92b",
   "metadata": {},
   "outputs": [],
   "source": [
    "def task_distribution(total_num_tasks, reserved_gpus, power_ratios):\n",
    "    container = []\n",
    "\n",
    "    # HOW MANY UNITS OF WORK IN TOTAL\n",
    "    total_units = sum([power_ratios[gpu_name] for gpu_name in reserved_gpus])\n",
    "    work_delegated = 0\n",
    "\n",
    "    # BASED ON THE POWER RATIO, DELEGATE N TASKS TO EACH GPU\n",
    "    for gpu_name in reserved_gpus:\n",
    "        gpu_tasks = math.floor(total_num_tasks  * (power_ratios[gpu_name] / total_units))\n",
    "        \n",
    "        work_delegated += gpu_tasks\n",
    "        container.append(gpu_tasks)\n",
    "\n",
    "    # CHECK IF ANY TASKS ARE UNASSIGNED\n",
    "    missing_tasks = total_num_tasks - work_delegated\n",
    "\n",
    "    # IF YES, THEN DUMP THEM ON THE FIRST GPU\n",
    "    if missing_tasks > 0:\n",
    "        container[0] += missing_tasks\n",
    "\n",
    "    return container"
   ]
  },
  {
   "cell_type": "markdown",
   "id": "7297ac91-6720-47b3-9b4c-e80630da9b1e",
   "metadata": {},
   "source": [
    "### CREATE n UNIQUE TASKS\n",
    "### DISTRIBUTE THEM TO x GPUs ON THE CLUSTER"
   ]
  },
  {
   "cell_type": "code",
   "execution_count": 14,
   "id": "15e48e8a-30e5-4828-96a6-94260d408892",
   "metadata": {},
   "outputs": [],
   "source": [
    "def simulation(total_tasks, gpu_power_ratio):\n",
    "\n",
    "    # CHECK CLUSTER GPU STATUS\n",
    "    num_gpus = available_gpus()\n",
    "    expected_gpus = 3\n",
    "    assert num_gpus == expected_gpus, f'EXPECTED AMOUNT OF GPUS NOT AVAILABLE (GOT {num_gpus}, EXPECTED {expected_gpus})'\n",
    "    \n",
    "    # CREATE AN INSTANCE ON EACH NODE WITH A GPU\n",
    "    # AND FIND WHICH GPU THEY WERE ASSIGNED\n",
    "    actors = [gpu_actor.remote() for x in range(num_gpus)]\n",
    "    actor_gpus = [ray.get(actor.detect_gpu.remote()) for actor in actors]\n",
    "\n",
    "    # FIGURE OUT HOW MANY TASKS EACH GPU SHOULD BE ASSIGNED\n",
    "    # BASED ON RELATIVE COMPUTATIONAL POWER RATIO\n",
    "    actor_tasks = task_distribution(total_tasks, actor_gpus, gpu_power_ratio)\n",
    "    tasks = []\n",
    "\n",
    "    # DELEGATE & START THE TASKS\n",
    "    for nth, actor in enumerate(actors):\n",
    "        gpu_name = actor_gpus[nth]\n",
    "        num_tasks = actor_tasks[nth]\n",
    "        \n",
    "        print(f'ASSIGNING {num_tasks} TASKS TO GPU {gpu_name}')\n",
    "        tasks += [actor.perform_work.remote() for x in range(num_tasks)]\n",
    "\n",
    "    # WAIT FOR EVERY TASK TO FINISH\n",
    "    durations = ray.get(tasks)\n",
    "    total_duration = round(sum([item[1] for item in durations]), 3)\n",
    "    print(f'THE EXPERIMENT TOOK {total_duration} SECONDS')\n",
    "\n",
    "    # THEN KILL THE ACTORS\n",
    "    [ray.kill(actor) for actor in actors]\n",
    "\n",
    "    return durations"
   ]
  },
  {
   "cell_type": "code",
   "execution_count": 15,
   "id": "e01b512c-3595-4f24-af40-8258432fc39c",
   "metadata": {},
   "outputs": [
    {
     "name": "stdout",
     "output_type": "stream",
     "text": [
      "ASSIGNING 12 TASKS TO GPU NVIDIA GeForce GTX TITAN X\n",
      "ASSIGNING 77 TASKS TO GPU NVIDIA GeForce RTX 4090\n",
      "ASSIGNING 11 TASKS TO GPU NVIDIA GeForce GTX TITAN X\n",
      "THE EXPERIMENT TOOK 95.32 SECONDS\n"
     ]
    }
   ],
   "source": [
    "task_durations = simulation(100, {\n",
    "    'NVIDIA GeForce GTX TITAN X': 1,\n",
    "    'NVIDIA GeForce RTX 4090': 7,\n",
    "    '6000 ADA': None,\n",
    "    '3080': None,\n",
    "    '3060': None,\n",
    "})"
   ]
  },
  {
   "cell_type": "code",
   "execution_count": 16,
   "id": "c3771b25-39f1-4d0f-846e-3fbc84463fd5",
   "metadata": {},
   "outputs": [
    {
     "name": "stdout",
     "output_type": "stream",
     "text": [
      "{\n",
      "    \"avg_durations\": {\n",
      "        \"NVIDIA GeForce GTX TITAN X\": 2.969,\n",
      "        \"NVIDIA GeForce RTX 4090\": 0.351\n",
      "    },\n",
      "    \"ratios\": {\n",
      "        \"NVIDIA GeForce GTX TITAN X\": 1.0,\n",
      "        \"NVIDIA GeForce RTX 4090\": 8.459\n",
      "    }\n",
      "}\n"
     ]
    }
   ],
   "source": [
    "pprint(avg_times(task_durations))"
   ]
  },
  {
   "cell_type": "markdown",
   "id": "b78e6e36-64e1-485e-82f5-545fcbc398a2",
   "metadata": {},
   "source": [
    "### GOOD PERFORMANCE PROFILE -- GRAFANA PROFILE"
   ]
  },
  {
   "cell_type": "markdown",
   "id": "2282ff97-73cb-4a36-aa60-bf55460ddacb",
   "metadata": {},
   "source": [
    "<center><img src=\"good_profile.png\" /></center>"
   ]
  },
  {
   "cell_type": "markdown",
   "id": "0d45df69-306b-42df-bbf1-44ee766eb3b6",
   "metadata": {},
   "source": [
    "### NAIVE PERFORMANCE PROFILE -- GRAFANA"
   ]
  },
  {
   "cell_type": "markdown",
   "id": "bb4f34c8-4025-4957-b6c2-b8a629bcc18b",
   "metadata": {},
   "source": [
    "<center><img src=\"naive_profile.png\" /></center>"
   ]
  },
  {
   "cell_type": "code",
   "execution_count": null,
   "id": "ba16050c-b87f-469b-865d-f8bff4171e2b",
   "metadata": {},
   "outputs": [],
   "source": []
  },
  {
   "cell_type": "code",
   "execution_count": null,
   "id": "d828cff7-7608-45bb-840b-0df88d1bbc0f",
   "metadata": {},
   "outputs": [],
   "source": []
  },
  {
   "cell_type": "code",
   "execution_count": null,
   "id": "14f1008c-bd51-4463-bc7b-c7cdfa0aff4b",
   "metadata": {},
   "outputs": [],
   "source": []
  },
  {
   "cell_type": "code",
   "execution_count": null,
   "id": "289858c7-961f-43e5-bdab-a8a6c0b1a688",
   "metadata": {},
   "outputs": [],
   "source": []
  },
  {
   "cell_type": "code",
   "execution_count": null,
   "id": "eecc0653-1905-4583-865a-0f08329365fa",
   "metadata": {},
   "outputs": [],
   "source": []
  }
 ],
 "metadata": {
  "kernelspec": {
   "display_name": "Python 3 (ipykernel)",
   "language": "python",
   "name": "python3"
  },
  "language_info": {
   "codemirror_mode": {
    "name": "ipython",
    "version": 3
   },
   "file_extension": ".py",
   "mimetype": "text/x-python",
   "name": "python",
   "nbconvert_exporter": "python",
   "pygments_lexer": "ipython3",
   "version": "3.12.3"
  }
 },
 "nbformat": 4,
 "nbformat_minor": 5
}
