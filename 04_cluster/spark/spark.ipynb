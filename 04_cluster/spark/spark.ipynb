{
 "cells": [
  {
   "cell_type": "code",
   "execution_count": null,
   "id": "40034b92-6067-466f-99b0-96960551630b",
   "metadata": {},
   "outputs": [],
   "source": [
    "# !pip install pyspark\n",
    "from pyspark.sql import SparkSession"
   ]
  },
  {
   "cell_type": "code",
   "execution_count": null,
   "id": "a5eb6f14-940b-4098-8a98-3a0e942fbbbb",
   "metadata": {},
   "outputs": [],
   "source": []
  },
  {
   "cell_type": "code",
   "execution_count": null,
   "id": "0da70e9f-c183-428b-94d3-73d00b0f4fa2",
   "metadata": {},
   "outputs": [],
   "source": [
    "spark = SparkSession.builder.appName(\"GPU-Spark-Test\").master(\"spark://193.167.37.47:7077\")"
   ]
  },
  {
   "cell_type": "code",
   "execution_count": null,
   "id": "c1a7b564-01e8-4f02-b5c0-fc3adbd63a46",
   "metadata": {},
   "outputs": [],
   "source": [
    "spark.config(\"spark.executor.resource.gpu.amount\", \"1\").config(\"task.resource.gpu.amount\", \"0.125\").getOrCreate()"
   ]
  },
  {
   "cell_type": "code",
   "execution_count": null,
   "id": "48722126-c9ab-4d59-b18f-b39bbc53687c",
   "metadata": {},
   "outputs": [],
   "source": []
  },
  {
   "cell_type": "code",
   "execution_count": null,
   "id": "c9a24366-6509-417c-b27d-4b8dc341cecb",
   "metadata": {},
   "outputs": [],
   "source": [
    "# Initialize Spark session and configure GPU resources\n",
    "spark = SparkSession.builder \\\n",
    "    .appName(\"GPU-Spark-Test\") \\\n",
    "    .master(\"spark://193.167.37.47:7077\") \\\n",
    "    .config(\"spark.executor.resource.gpu.amount\", \"1\") \\\n",
    "    .config(\"spark.task.resource.gpu.amount\", \"1\") \\\n",
    "    .config(\"spark.executor.resource.gpu.discoveryScript\", \"/opt/spark/bin/find-gpus.sh\") \\\n",
    "    .getOrCreate()\n",
    "\n",
    "# Check if the session is created successfully\n",
    "print(\"Spark Session Created with GPU Support\")"
   ]
  },
  {
   "cell_type": "code",
   "execution_count": null,
   "id": "9db65098-0cfd-4d8f-97cf-9c7de98e623d",
   "metadata": {},
   "outputs": [],
   "source": []
  },
  {
   "cell_type": "code",
   "execution_count": null,
   "id": "3afdbd1c-5391-49a5-b4b3-1e30433e95c2",
   "metadata": {},
   "outputs": [],
   "source": []
  },
  {
   "cell_type": "code",
   "execution_count": null,
   "id": "2b493ff4-e708-44ac-a185-c507b8eb2314",
   "metadata": {},
   "outputs": [],
   "source": [
    "import pyspark\n",
    "from pyspark.sql import SparkSession\n",
    "\n",
    "# Create a Spark session with GPU support\n",
    "spark = SparkSession.builder \\\n",
    "    .appName(\"GPU Computation\") \\\n",
    "    .master(\"spark://193.167.37.47:7077\") \\\n",
    "    .config(\"spark.executor.cores\", \"24\") \\\n",
    "    .getOrCreate()\n",
    "\n",
    "# Print Spark and core info\n",
    "#print(\"Spark version:\", spark.version)\n",
    "#print(\"Number of available cores:\", spark.sparkContext.defaultParallelism)\n",
    "\n",
    "# Create a large DataFrame to perform some computation\n",
    "data = [(i, i * 2) for i in range(1000)]\n",
    "columns = [\"Number\", \"Double\"]\n",
    "df = spark.createDataFrame(data, columns)\n",
    "print(df)\n",
    "\n",
    "# Perform some computations\n",
    "result = df.groupBy(\"Number\").agg({\"Double\": \"sum\"}).orderBy(\"Number\")\n",
    "\n",
    "# Show the result\n",
    "result.show()\n",
    "\n",
    "# Stop the Spark session\n",
    "spark.stop()"
   ]
  },
  {
   "cell_type": "code",
   "execution_count": null,
   "id": "2afc3317-0c89-46b7-9f38-5d224fe72b3e",
   "metadata": {},
   "outputs": [],
   "source": [
    "result"
   ]
  },
  {
   "cell_type": "code",
   "execution_count": null,
   "id": "b2dd4e42-5768-4799-8f90-5202abdd33ea",
   "metadata": {},
   "outputs": [],
   "source": []
  },
  {
   "cell_type": "code",
   "execution_count": null,
   "id": "ed95d5eb-c021-4874-ab16-a297fbd3c7ae",
   "metadata": {},
   "outputs": [],
   "source": []
  },
  {
   "cell_type": "code",
   "execution_count": null,
   "id": "1d58741e-137b-4c2b-aa21-064099c429d3",
   "metadata": {},
   "outputs": [],
   "source": [
    "    .config(\"spark.rapids.sql.enabled\", \"true\") \\\n",
    "    .config(\"spark.executor.resource.gpu.amount\", \"1\") \\\n",
    "    .config(\"spark.task.resource.gpu.amount\", \"1\") \\"
   ]
  },
  {
   "cell_type": "code",
   "execution_count": 7,
   "id": "e0ad4026-d99e-4935-a23c-775188147ab2",
   "metadata": {},
   "outputs": [],
   "source": [
    "import time"
   ]
  },
  {
   "cell_type": "code",
   "execution_count": 11,
   "id": "091acf41-39f4-4685-9ef2-3fa8981e8809",
   "metadata": {},
   "outputs": [
    {
     "name": "stdout",
     "output_type": "stream",
     "text": [
      "DataFrame[Number: bigint, Double: bigint]\n"
     ]
    },
    {
     "name": "stderr",
     "output_type": "stream",
     "text": [
      "                                                                                \r"
     ]
    },
    {
     "name": "stdout",
     "output_type": "stream",
     "text": [
      "+------+-----------+\n",
      "|Number|sum(Double)|\n",
      "+------+-----------+\n",
      "|     0|          0|\n",
      "|     1|          2|\n",
      "|     2|          4|\n",
      "|     3|          6|\n",
      "|     4|          8|\n",
      "|     5|         10|\n",
      "|     6|         12|\n",
      "|     7|         14|\n",
      "|     8|         16|\n",
      "|     9|         18|\n",
      "|    10|         20|\n",
      "|    11|         22|\n",
      "|    12|         24|\n",
      "|    13|         26|\n",
      "|    14|         28|\n",
      "|    15|         30|\n",
      "|    16|         32|\n",
      "|    17|         34|\n",
      "|    18|         36|\n",
      "|    19|         38|\n",
      "+------+-----------+\n",
      "only showing top 20 rows\n",
      "\n",
      "JOB TOOK 3.006681203842163 SECONDS\n"
     ]
    }
   ],
   "source": [
    "#import os\n",
    "#import findspark\n",
    "\n",
    "# Set environment variables for PySpark\n",
    "#os.environ[\"PYSPARK_PYTHON\"] = \"/usr/bin/python3.12\"  # Path to Python 3.10\n",
    "#os.environ[\"PYSPARK_DRIVER_PYTHON\"] = \"/usr/bin/python3.12\"  # Path to Python 3.10\n",
    "\n",
    "# Initialize findspark\n",
    "#findspark.init()  # This will find the Spark installation\n",
    "\n",
    "# Import SparkSession\n",
    "from pyspark.sql import SparkSession\n",
    "\n",
    "# Create a Spark session pointing to the Dockerized Spark master\n",
    "spark = SparkSession.builder \\\n",
    "    .appName(\"Jupyter with Spark in Docker\") \\\n",
    "    .master(\"spark://193.167.37.47:7077\") \\\n",
    "    .config(\"spark.executor.cores\", \"24\") \\\n",
    "    .getOrCreate()\n",
    "\n",
    "start_time = time.time()\n",
    "\n",
    "# Create a large DataFrame to perform some computation\n",
    "data = [(i, i * 2) for i in range(1000)]\n",
    "columns = [\"Number\", \"Double\"]\n",
    "df = spark.createDataFrame(data, columns)\n",
    "print(df)\n",
    "\n",
    "# Perform some computations\n",
    "result = df.groupBy(\"Number\").agg({\"Double\": \"sum\"}).orderBy(\"Number\")\n",
    "\n",
    "# Show the result\n",
    "result.show()\n",
    "\n",
    "time_delta = time.time() - start_time\n",
    "print(f'JOB TOOK {time_delta} SECONDS')\n",
    "\n",
    "# Stop the Spark session\n",
    "spark.stop()"
   ]
  },
  {
   "cell_type": "code",
   "execution_count": null,
   "id": "4ce7c498-aec1-40e4-a119-2bb5d24a92c3",
   "metadata": {},
   "outputs": [],
   "source": []
  },
  {
   "cell_type": "code",
   "execution_count": null,
   "id": "10f5d80e-235b-4fd2-949c-fae257fa8353",
   "metadata": {},
   "outputs": [],
   "source": []
  },
  {
   "cell_type": "code",
   "execution_count": null,
   "id": "fac60019-736d-49ca-ace0-f21014f14999",
   "metadata": {},
   "outputs": [],
   "source": []
  },
  {
   "cell_type": "code",
   "execution_count": null,
   "id": "d8f6f27d-4ded-4730-964e-3aee8dac0419",
   "metadata": {},
   "outputs": [],
   "source": []
  },
  {
   "cell_type": "code",
   "execution_count": null,
   "id": "c5193e90-2382-4347-ac05-c6467946804b",
   "metadata": {},
   "outputs": [],
   "source": []
  }
 ],
 "metadata": {
  "kernelspec": {
   "display_name": "Python 3 (ipykernel)",
   "language": "python",
   "name": "python3"
  },
  "language_info": {
   "codemirror_mode": {
    "name": "ipython",
    "version": 3
   },
   "file_extension": ".py",
   "mimetype": "text/x-python",
   "name": "python",
   "nbconvert_exporter": "python",
   "pygments_lexer": "ipython3",
   "version": "3.12.7"
  }
 },
 "nbformat": 4,
 "nbformat_minor": 5
}
