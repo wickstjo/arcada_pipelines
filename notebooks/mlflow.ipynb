{
 "cells": [
  {
   "cell_type": "markdown",
   "id": "5a83f988-6328-49c4-a56c-7935af85aa0c",
   "metadata": {},
   "source": [
    "#### NORMAL SKLEARN LIBS"
   ]
  },
  {
   "cell_type": "code",
   "execution_count": 23,
   "id": "c4d7e5c3-8c80-450a-9082-b65d9ebe91ac",
   "metadata": {},
   "outputs": [],
   "source": [
    "from sklearn.datasets import make_regression\n",
    "from sklearn.ensemble import RandomForestRegressor\n",
    "from sklearn.metrics import mean_squared_error\n",
    "from sklearn.model_selection import train_test_split"
   ]
  },
  {
   "cell_type": "markdown",
   "id": "e4f6c77d-4f4b-4ef4-b42d-f10ff90a66dc",
   "metadata": {},
   "source": [
    "#### MLFLOW SPECIFIC LIBS"
   ]
  },
  {
   "cell_type": "code",
   "execution_count": 24,
   "id": "248d57d9-448b-41f7-8383-08419f5737d2",
   "metadata": {},
   "outputs": [],
   "source": [
    "# !pip install mlflow\n",
    "\n",
    "import mlflow\n",
    "import mlflow.sklearn\n",
    "from mlflow.models import infer_signature"
   ]
  },
  {
   "cell_type": "markdown",
   "id": "2c10d9c7-7ee2-49c5-a218-3299ef2150d6",
   "metadata": {},
   "source": [
    "#### CONNECT TO CLUSTER"
   ]
  },
  {
   "cell_type": "code",
   "execution_count": 21,
   "id": "d0afe8a4-f918-47ed-8af3-46dea5641ead",
   "metadata": {},
   "outputs": [],
   "source": [
    "mlflow.set_tracking_uri(\"http://193.166.180.240:5000\")\n",
    "mlflow.set_registry_uri(\"http://193.166.180.240:5000\")"
   ]
  },
  {
   "cell_type": "markdown",
   "id": "adae2fa9-43b5-4bfb-9f74-bab7d6b14cc9",
   "metadata": {},
   "source": [
    "#### REGISTER A MODEL ON THE CLUSTER"
   ]
  },
  {
   "cell_type": "code",
   "execution_count": 22,
   "id": "88897c40-6649-4807-b96a-870f0f441148",
   "metadata": {},
   "outputs": [
    {
     "name": "stderr",
     "output_type": "stream",
     "text": [
      "Successfully registered model 'sk-learn-random-forest-reg-model'.\n",
      "2024/09/22 17:39:17 INFO mlflow.store.model_registry.abstract_store: Waiting up to 300 seconds for model version to finish creation. Model name: sk-learn-random-forest-reg-model, version 1\n",
      "Created version '1' of model 'sk-learn-random-forest-reg-model'.\n",
      "2024/09/22 17:39:17 INFO mlflow.tracking._tracking_service.client: 🏃 View run thundering-worm-198 at: http://193.166.180.240:5000/#/experiments/0/runs/4376c8952d7a4ed399836cf9e2a84654.\n",
      "2024/09/22 17:39:17 INFO mlflow.tracking._tracking_service.client: 🧪 View experiment at: http://193.166.180.240:5000/#/experiments/0.\n"
     ]
    }
   ],
   "source": [
    "with mlflow.start_run() as run:\n",
    "    X, y = make_regression(n_features=4, n_informative=2, random_state=0, shuffle=False)\n",
    "    X_train, X_test, y_train, y_test = train_test_split(\n",
    "        X, y, test_size=0.2, random_state=42\n",
    "    )\n",
    "    params = {\"max_depth\": 2, \"random_state\": 42}\n",
    "    model = RandomForestRegressor(**params)\n",
    "    model.fit(X_train, y_train)\n",
    "\n",
    "    # Infer the model signature\n",
    "    y_pred = model.predict(X_test)\n",
    "    signature = infer_signature(X_test, y_pred)\n",
    "\n",
    "    # Log parameters and metrics using the MLflow APIs\n",
    "    mlflow.log_params(params)\n",
    "    mlflow.log_metrics({\"mse\": mean_squared_error(y_test, y_pred)})\n",
    "\n",
    "    # Log the sklearn model and register as version 1\n",
    "    mlflow.sklearn.log_model(\n",
    "        sk_model=model,\n",
    "        artifact_path=\"sklearn-model\",\n",
    "        signature=signature,\n",
    "        registered_model_name=\"sk-learn-random-forest-reg-model\",\n",
    "    )\n"
   ]
  },
  {
   "cell_type": "code",
   "execution_count": null,
   "id": "b1bdc6e0-9964-464c-a321-83f870668972",
   "metadata": {},
   "outputs": [],
   "source": []
  },
  {
   "cell_type": "code",
   "execution_count": null,
   "id": "5cd9fc8d-124b-4e8b-be8e-5978989b527e",
   "metadata": {},
   "outputs": [],
   "source": []
  },
  {
   "cell_type": "code",
   "execution_count": null,
   "id": "10a1afd5-376c-4b05-b8d5-4fc6f4f1d615",
   "metadata": {},
   "outputs": [],
   "source": []
  },
  {
   "cell_type": "code",
   "execution_count": null,
   "id": "17fd92cf-bdf4-4ea5-9766-9e46333db84e",
   "metadata": {},
   "outputs": [],
   "source": []
  },
  {
   "cell_type": "code",
   "execution_count": null,
   "id": "e4de7675-5b37-4123-b370-928cd0bc71a4",
   "metadata": {},
   "outputs": [],
   "source": []
  }
 ],
 "metadata": {
  "kernelspec": {
   "display_name": "Python 3 (ipykernel)",
   "language": "python",
   "name": "python3"
  },
  "language_info": {
   "codemirror_mode": {
    "name": "ipython",
    "version": 3
   },
   "file_extension": ".py",
   "mimetype": "text/x-python",
   "name": "python",
   "nbconvert_exporter": "python",
   "pygments_lexer": "ipython3",
   "version": "3.10.12"
  }
 },
 "nbformat": 4,
 "nbformat_minor": 5
}
