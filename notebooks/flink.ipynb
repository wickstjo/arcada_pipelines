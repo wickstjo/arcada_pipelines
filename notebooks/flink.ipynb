{
 "cells": [
  {
   "cell_type": "code",
   "execution_count": 1,
   "id": "d73426f6",
   "metadata": {},
   "outputs": [],
   "source": [
    "# !pip install apache-flink"
   ]
  },
  {
   "cell_type": "code",
   "execution_count": 2,
   "id": "a8fb600e",
   "metadata": {},
   "outputs": [],
   "source": [
    "from pyflink.datastream import StreamExecutionEnvironment\n",
    "from pyflink.datastream.connectors import FlinkKafkaConsumer\n",
    "from pyflink.common.serialization import SimpleStringSchema\n",
    "from pyflink.common.watermark_strategy import WatermarkStrategy"
   ]
  },
  {
   "cell_type": "code",
   "execution_count": null,
   "id": "d4b5d48f",
   "metadata": {},
   "outputs": [],
   "source": []
  },
  {
   "cell_type": "code",
   "execution_count": 12,
   "id": "027b437c",
   "metadata": {},
   "outputs": [
    {
     "ename": "AttributeError",
     "evalue": "'ExecutionConfig' object has no attribute 'set_pipeline_jars'",
     "output_type": "error",
     "traceback": [
      "\u001b[0;31m---------------------------------------------------------------------------\u001b[0m",
      "\u001b[0;31mAttributeError\u001b[0m                            Traceback (most recent call last)",
      "Cell \u001b[0;32mIn[12], line 4\u001b[0m\n\u001b[1;32m      1\u001b[0m \u001b[38;5;66;03m# Initialize the Flink environment\u001b[39;00m\n\u001b[1;32m      2\u001b[0m env \u001b[38;5;241m=\u001b[39m StreamExecutionEnvironment\u001b[38;5;241m.\u001b[39mget_execution_environment()\n\u001b[0;32m----> 4\u001b[0m \u001b[43menv\u001b[49m\u001b[38;5;241;43m.\u001b[39;49m\u001b[43mget_config\u001b[49m\u001b[43m(\u001b[49m\u001b[43m)\u001b[49m\u001b[38;5;241;43m.\u001b[39;49m\u001b[43mset_pipeline_jars\u001b[49m([\u001b[38;5;124m\"\u001b[39m\u001b[38;5;124m./flink-connector-kafka-3.1.0-1.18.jar\u001b[39m\u001b[38;5;124m\"\u001b[39m])\n\u001b[1;32m      6\u001b[0m \u001b[38;5;66;03m# Kafka Consumer configuration\u001b[39;00m\n\u001b[1;32m      7\u001b[0m kafka_props \u001b[38;5;241m=\u001b[39m {\n\u001b[1;32m      8\u001b[0m     \u001b[38;5;124m'\u001b[39m\u001b[38;5;124mbootstrap.servers\u001b[39m\u001b[38;5;124m'\u001b[39m: \u001b[38;5;124m'\u001b[39m\u001b[38;5;124mlocalhost:11001\u001b[39m\u001b[38;5;124m'\u001b[39m,  \u001b[38;5;66;03m# Kafka broker address\u001b[39;00m\n\u001b[1;32m      9\u001b[0m     \u001b[38;5;124m'\u001b[39m\u001b[38;5;124mgroup.id\u001b[39m\u001b[38;5;124m'\u001b[39m: \u001b[38;5;124m'\u001b[39m\u001b[38;5;124mflink-consumer-group\u001b[39m\u001b[38;5;124m'\u001b[39m,     \u001b[38;5;66;03m# Consumer group ID\u001b[39;00m\n\u001b[1;32m     10\u001b[0m }\n",
      "\u001b[0;31mAttributeError\u001b[0m: 'ExecutionConfig' object has no attribute 'set_pipeline_jars'"
     ]
    }
   ],
   "source": [
    "# Initialize the Flink environment\n",
    "env = StreamExecutionEnvironment.get_execution_environment()\n",
    "\n",
    "env.get_config().set_pipeline_jars([\"./flink-connector-kafka-3.1.0-1.18.jar\"])\n",
    "\n",
    "# Kafka Consumer configuration\n",
    "kafka_props = {\n",
    "    'bootstrap.servers': 'localhost:11001',  # Kafka broker address\n",
    "    'group.id': 'flink-consumer-group',     # Consumer group ID\n",
    "}\n",
    "\n",
    "# Create a Kafka Consumer\n",
    "kafka_consumer = FlinkKafkaConsumer(\n",
    "    topics='eyylmaoZ',               # Kafka topic to consume\n",
    "    deserialization_schema=SimpleStringSchema(), # Deserializer for Kafka message values\n",
    "    properties=kafka_props                   # Kafka connection properties\n",
    ")\n",
    "\n",
    "# Set up Watermark Strategy (if needed, for event-time processing)\n",
    "watermark_strategy = WatermarkStrategy.for_monotonous_timestamps()\n",
    "\n",
    "# Add the Kafka source to the Flink environment\n",
    "kafka_stream = env.add_source(kafka_consumer.assign_timestamps_and_watermarks(watermark_strategy))\n",
    "\n",
    "# Process the stream (example: just print the stream content)\n",
    "kafka_stream.print()\n",
    "\n",
    "# Execute the Flink job\n",
    "env.execute(\"Flink Kafka Consumer Example\")"
   ]
  },
  {
   "cell_type": "code",
   "execution_count": null,
   "id": "d9622331",
   "metadata": {},
   "outputs": [],
   "source": []
  },
  {
   "cell_type": "code",
   "execution_count": null,
   "id": "4652341e",
   "metadata": {},
   "outputs": [],
   "source": []
  }
 ],
 "metadata": {
  "kernelspec": {
   "display_name": "Python 3 (ipykernel)",
   "language": "python",
   "name": "python3"
  },
  "language_info": {
   "codemirror_mode": {
    "name": "ipython",
    "version": 3
   },
   "file_extension": ".py",
   "mimetype": "text/x-python",
   "name": "python",
   "nbconvert_exporter": "python",
   "pygments_lexer": "ipython3",
   "version": "3.10.12"
  }
 },
 "nbformat": 4,
 "nbformat_minor": 5
}
