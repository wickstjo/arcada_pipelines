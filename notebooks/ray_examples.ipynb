{
 "cells": [
  {
   "cell_type": "code",
   "execution_count": 1,
   "id": "98099ba5-3c5d-4bb5-815d-f36491ee285a",
   "metadata": {},
   "outputs": [],
   "source": [
    "import ray, json, time"
   ]
  },
  {
   "cell_type": "code",
   "execution_count": 2,
   "id": "f10dd6d1-439d-4286-a92d-01d64831714c",
   "metadata": {},
   "outputs": [],
   "source": [
    "def pprint(data):\n",
    "    print(json.dumps(data, indent=4))"
   ]
  },
  {
   "cell_type": "markdown",
   "id": "ec9ff3e9-6e6c-45bf-878b-8d1754784037",
   "metadata": {},
   "source": [
    "### CONNECT TO THE RAY CLUSTER"
   ]
  },
  {
   "cell_type": "code",
   "execution_count": 3,
   "id": "7805a5fa-7fa4-45a9-95d5-bf7369d3505d",
   "metadata": {},
   "outputs": [
    {
     "name": "stderr",
     "output_type": "stream",
     "text": [
      "2024-11-11 06:21:39,413\tINFO client_builder.py:244 -- Passing the following kwargs to ray.init() on the server: log_to_driver\n",
      "2024-11-11 06:21:40,280\tWARNING utils.py:1591 -- Python patch version mismatch: The cluster was started with:\n",
      "    Ray: 2.38.0\n",
      "    Python: 3.12.7\n",
      "This process on Ray Client was started with:\n",
      "    Ray: 2.38.0\n",
      "    Python: 3.12.3\n",
      "\n"
     ]
    },
    {
     "data": {
      "application/vnd.jupyter.widget-view+json": {
       "model_id": "5fd12f209ed34b3eaf6e66b758108845",
       "version_major": 2,
       "version_minor": 0
      },
      "text/html": [
       "<div class=\"lm-Widget p-Widget lm-Panel p-Panel jp-Cell-outputWrapper\">\n",
       "    <div style=\"margin-left: 50px;display: flex;flex-direction: row;align-items: center\">\n",
       "        <div class=\"jp-RenderedHTMLCommon\" style=\"display: flex; flex-direction: row;\">\n",
       "  <svg viewBox=\"0 0 567 224\" fill=\"none\" xmlns=\"http://www.w3.org/2000/svg\" style=\"height: 3em;\">\n",
       "    <g clip-path=\"url(#clip0_4338_178347)\">\n",
       "        <path d=\"M341.29 165.561H355.29L330.13 129.051C345.63 123.991 354.21 112.051 354.21 94.2307C354.21 71.3707 338.72 58.1807 311.88 58.1807H271V165.561H283.27V131.661H311.8C314.25 131.661 316.71 131.501 319.01 131.351L341.25 165.561H341.29ZM283.29 119.851V70.0007H311.82C331.3 70.0007 342.34 78.2907 342.34 94.5507C342.34 111.271 331.34 119.861 311.82 119.861L283.29 119.851ZM451.4 138.411L463.4 165.561H476.74L428.74 58.1807H416L367.83 165.561H380.83L392.83 138.411H451.4ZM446.19 126.601H398L422 72.1407L446.24 126.601H446.19ZM526.11 128.741L566.91 58.1807H554.35L519.99 114.181L485.17 58.1807H472.44L514.01 129.181V165.541H526.13V128.741H526.11Z\" fill=\"var(--jp-ui-font-color0)\"/>\n",
       "        <path d=\"M82.35 104.44C84.0187 97.8827 87.8248 92.0678 93.1671 87.9146C98.5094 83.7614 105.083 81.5067 111.85 81.5067C118.617 81.5067 125.191 83.7614 130.533 87.9146C135.875 92.0678 139.681 97.8827 141.35 104.44H163.75C164.476 101.562 165.622 98.8057 167.15 96.2605L127.45 56.5605C121.071 60.3522 113.526 61.6823 106.235 60.3005C98.9443 58.9187 92.4094 54.9203 87.8602 49.0574C83.3109 43.1946 81.0609 35.8714 81.5332 28.4656C82.0056 21.0599 85.1679 14.0819 90.4252 8.8446C95.6824 3.60726 102.672 0.471508 110.08 0.0272655C117.487 -0.416977 124.802 1.86091 130.647 6.4324C136.493 11.0039 140.467 17.5539 141.821 24.8501C143.175 32.1463 141.816 39.6859 138 46.0505L177.69 85.7505C182.31 82.9877 187.58 81.4995 192.962 81.4375C198.345 81.3755 203.648 82.742 208.33 85.3976C213.012 88.0532 216.907 91.9029 219.616 96.5544C222.326 101.206 223.753 106.492 223.753 111.875C223.753 117.258 222.326 122.545 219.616 127.197C216.907 131.848 213.012 135.698 208.33 138.353C203.648 141.009 198.345 142.375 192.962 142.313C187.58 142.251 182.31 140.763 177.69 138L138 177.7C141.808 184.071 143.155 191.614 141.79 198.91C140.424 206.205 136.44 212.75 130.585 217.313C124.731 221.875 117.412 224.141 110.004 223.683C102.596 223.226 95.6103 220.077 90.3621 214.828C85.1139 209.58 81.9647 202.595 81.5072 195.187C81.0497 187.779 83.3154 180.459 87.878 174.605C92.4405 168.751 98.9853 164.766 106.281 163.401C113.576 162.035 121.119 163.383 127.49 167.19L167.19 127.49C165.664 124.941 164.518 122.182 163.79 119.3H141.39C139.721 125.858 135.915 131.673 130.573 135.826C125.231 139.98 118.657 142.234 111.89 142.234C105.123 142.234 98.5494 139.98 93.2071 135.826C87.8648 131.673 84.0587 125.858 82.39 119.3H60C58.1878 126.495 53.8086 132.78 47.6863 136.971C41.5641 141.163 34.1211 142.972 26.7579 142.059C19.3947 141.146 12.6191 137.574 7.70605 132.014C2.79302 126.454 0.0813599 119.29 0.0813599 111.87C0.0813599 104.451 2.79302 97.2871 7.70605 91.7272C12.6191 86.1673 19.3947 82.5947 26.7579 81.6817C34.1211 80.7686 41.5641 82.5781 47.6863 86.7696C53.8086 90.9611 58.1878 97.2456 60 104.44H82.35ZM100.86 204.32C103.407 206.868 106.759 208.453 110.345 208.806C113.93 209.159 117.527 208.258 120.522 206.256C123.517 204.254 125.725 201.276 126.771 197.828C127.816 194.38 127.633 190.677 126.253 187.349C124.874 184.021 122.383 181.274 119.205 179.577C116.027 177.88 112.359 177.337 108.826 178.042C105.293 178.746 102.113 180.654 99.8291 183.44C97.5451 186.226 96.2979 189.718 96.3 193.32C96.2985 195.364 96.7006 197.388 97.4831 199.275C98.2656 201.163 99.4132 202.877 100.86 204.32ZM204.32 122.88C206.868 120.333 208.453 116.981 208.806 113.396C209.159 109.811 208.258 106.214 206.256 103.219C204.254 100.223 201.275 98.0151 197.827 96.97C194.38 95.9249 190.676 96.1077 187.348 97.4873C184.02 98.8669 181.274 101.358 179.577 104.536C177.879 107.714 177.337 111.382 178.041 114.915C178.746 118.448 180.653 121.627 183.439 123.911C186.226 126.195 189.717 127.443 193.32 127.44C195.364 127.443 197.388 127.042 199.275 126.259C201.163 125.476 202.878 124.328 204.32 122.88ZM122.88 19.4205C120.333 16.8729 116.981 15.2876 113.395 14.9347C109.81 14.5817 106.213 15.483 103.218 17.4849C100.223 19.4868 98.0146 22.4654 96.9696 25.9131C95.9245 29.3608 96.1073 33.0642 97.4869 36.3922C98.8665 39.7202 101.358 42.4668 104.535 44.1639C107.713 45.861 111.381 46.4036 114.914 45.6992C118.447 44.9949 121.627 43.0871 123.911 40.301C126.195 37.515 127.442 34.0231 127.44 30.4205C127.44 28.3772 127.038 26.3539 126.255 24.4664C125.473 22.5788 124.326 20.8642 122.88 19.4205ZM19.42 100.86C16.8725 103.408 15.2872 106.76 14.9342 110.345C14.5813 113.93 15.4826 117.527 17.4844 120.522C19.4863 123.518 22.4649 125.726 25.9127 126.771C29.3604 127.816 33.0638 127.633 36.3918 126.254C39.7198 124.874 42.4664 122.383 44.1635 119.205C45.8606 116.027 46.4032 112.359 45.6988 108.826C44.9944 105.293 43.0866 102.114 40.3006 99.8296C37.5145 97.5455 34.0227 96.2983 30.42 96.3005C26.2938 96.3018 22.337 97.9421 19.42 100.86ZM100.86 100.86C98.3125 103.408 96.7272 106.76 96.3742 110.345C96.0213 113.93 96.9226 117.527 98.9244 120.522C100.926 123.518 103.905 125.726 107.353 126.771C110.8 127.816 114.504 127.633 117.832 126.254C121.16 124.874 123.906 122.383 125.604 119.205C127.301 116.027 127.843 112.359 127.139 108.826C126.434 105.293 124.527 102.114 121.741 99.8296C118.955 97.5455 115.463 96.2983 111.86 96.3005C109.817 96.299 107.793 96.701 105.905 97.4835C104.018 98.2661 102.303 99.4136 100.86 100.86Z\" fill=\"#00AEEF\"/>\n",
       "    </g>\n",
       "    <defs>\n",
       "        <clipPath id=\"clip0_4338_178347\">\n",
       "            <rect width=\"566.93\" height=\"223.75\" fill=\"white\"/>\n",
       "        </clipPath>\n",
       "    </defs>\n",
       "  </svg>\n",
       "</div>\n",
       "\n",
       "        <table class=\"jp-RenderedHTMLCommon\" style=\"border-collapse: collapse;color: var(--jp-ui-font-color1);font-size: var(--jp-ui-font-size1);\">\n",
       "    <tr>\n",
       "        <td style=\"text-align: left\"><b>Python version:</b></td>\n",
       "        <td style=\"text-align: left\"><b>3.12.7</b></td>\n",
       "    </tr>\n",
       "    <tr>\n",
       "        <td style=\"text-align: left\"><b>Ray version:</b></td>\n",
       "        <td style=\"text-align: left\"><b>2.38.0</b></td>\n",
       "    </tr>\n",
       "    <tr>\n",
       "    <td style=\"text-align: left\"><b>Dashboard:</b></td>\n",
       "    <td style=\"text-align: left\"><b><a href=\"http://10.151.173.95:8265\" target=\"_blank\">http://10.151.173.95:8265</a></b></td>\n",
       "</tr>\n",
       "\n",
       "</table>\n",
       "\n",
       "    </div>\n",
       "</div>\n"
      ],
      "text/plain": [
       "ClientContext(dashboard_url='10.151.173.95:8265', python_version='3.12.7', ray_version='2.38.0', ray_commit='385ee466260ef3cd218d5e372aef5d39338b7b94', _num_clients=1, _context_to_restore=<ray.util.client._ClientContext object at 0x7b208b5ef890>, protocol_version=None)"
      ]
     },
     "execution_count": 3,
     "metadata": {},
     "output_type": "execute_result"
    }
   ],
   "source": [
    "ray.init(address='ray://193.167.37.127:10001')"
   ]
  },
  {
   "cell_type": "markdown",
   "id": "b7dc9564-eaf9-42b2-8654-8252641ceae9",
   "metadata": {},
   "source": [
    "### WHAT HARDWARE DOES THE CLUSTER HAVE AVAILABLE?"
   ]
  },
  {
   "cell_type": "code",
   "execution_count": 4,
   "id": "0662c666-20ad-4358-928a-7a4858a9c7b6",
   "metadata": {},
   "outputs": [
    {
     "name": "stdout",
     "output_type": "stream",
     "text": [
      "{\n",
      "    \"accelerator_type:G\": 4.0,\n",
      "    \"node:__internal_head__\": 1.0,\n",
      "    \"node:10.84.60.60\": 1.0,\n",
      "    \"node:10.130.233.68\": 1.0,\n",
      "    \"CPU\": 55.0,\n",
      "    \"memory\": 115816633344.0,\n",
      "    \"object_store_memory\": 34444921650.0,\n",
      "    \"node:10.84.60.62\": 1.0,\n",
      "    \"GPU\": 4.0,\n",
      "    \"node:10.151.173.95\": 1.0,\n",
      "    \"node:10.151.173.100\": 1.0\n",
      "}\n"
     ]
    }
   ],
   "source": [
    "pprint(ray.available_resources())"
   ]
  },
  {
   "cell_type": "markdown",
   "id": "c87fb884-8916-4d58-9620-c1bb9b5b3714",
   "metadata": {},
   "source": [
    "### COMPUTE A LAMBDA FUNC ON THE CLUSTER"
   ]
  },
  {
   "cell_type": "code",
   "execution_count": 7,
   "id": "2da72cc1-2322-40c8-8ee3-b3af5d9df320",
   "metadata": {},
   "outputs": [],
   "source": [
    "@ray.remote\n",
    "def func():\n",
    "    temp = 'foo'\n",
    "    return temp\n",
    "\n",
    "future = func.remote()\n",
    "return_value = ray.get(future)"
   ]
  },
  {
   "cell_type": "code",
   "execution_count": 6,
   "id": "c4e76e75-c981-42f4-8e5f-fb120635539a",
   "metadata": {},
   "outputs": [
    {
     "data": {
      "text/plain": [
       "ClientObjectRef(b85750e2b7774ee6ffffffffffffffffffffffff0d00000001000000)"
      ]
     },
     "execution_count": 6,
     "metadata": {},
     "output_type": "execute_result"
    }
   ],
   "source": [
    "future"
   ]
  },
  {
   "cell_type": "code",
   "execution_count": 8,
   "id": "e2ca40d7-db14-43a1-a74e-ca3855b21d2e",
   "metadata": {},
   "outputs": [
    {
     "name": "stdout",
     "output_type": "stream",
     "text": [
      "foo\n"
     ]
    }
   ],
   "source": [
    "print(return_value)"
   ]
  },
  {
   "cell_type": "markdown",
   "id": "0cf5b093-6ded-433d-94d8-9821b0f6c15f",
   "metadata": {},
   "source": [
    "### EXECUTE MANY LAMBDA FUNCS IN PARALLEL ON THE CLUSTER"
   ]
  },
  {
   "cell_type": "code",
   "execution_count": 18,
   "id": "ecbff807-1149-439e-80f8-4b89e10df47d",
   "metadata": {},
   "outputs": [
    {
     "name": "stdout",
     "output_type": "stream",
     "text": [
      "[0.545285612897436, 0.029824888231838154, 0.9125729910519942, 0.21183493423655753, 0.9021293484819745, 0.18196141929122478, 0.007404437705985423, 0.9669807054804704, 0.09714340487997652, 0.7229129538020123]\n",
      "\n",
      "EXPERIMENT TOOK 1.069 SECONDS\n"
     ]
    }
   ],
   "source": [
    "@ray.remote\n",
    "def parallel_func():\n",
    "    import random, time\n",
    "\n",
    "    # SLEEP FOR 1 SECOND TO DEMONSTRATE PARALLELISM\n",
    "    time.sleep(1)\n",
    "    return random.uniform(0, 1)\n",
    "\n",
    "# LAUNCH 10 PARALLEL TASKS & WAIT FOR EACH ONE TO FINISH\n",
    "start_time = time.time()\n",
    "tasks = [parallel_func.remote() for x in range(10)]\n",
    "\n",
    "print(ray.get(tasks))\n",
    "time_delta = round(time.time() - start_time, 3)\n",
    "print(f'\\nEXPERIMENT TOOK {time_delta} SECONDS')"
   ]
  },
  {
   "cell_type": "markdown",
   "id": "8f009bb9-f329-45b8-a31c-70f308358725",
   "metadata": {},
   "source": [
    "### SCHEDULE A CLASS INSTANCE ON THE CLUSTER"
   ]
  },
  {
   "cell_type": "code",
   "execution_count": 19,
   "id": "578eea85-75b2-4700-9765-34c9c7e77ff8",
   "metadata": {},
   "outputs": [],
   "source": [
    "@ray.remote\n",
    "class Counter:\n",
    "    def __init__(self):\n",
    "        self.value = 0\n",
    "\n",
    "    def increment(self):\n",
    "        self.value += 1\n",
    "        return self.value\n",
    "\n",
    "    def get_counter(self):\n",
    "        return self.value"
   ]
  },
  {
   "cell_type": "code",
   "execution_count": 20,
   "id": "b1f5bdd2-ac94-4fd4-bbdc-e0503df41d47",
   "metadata": {},
   "outputs": [],
   "source": [
    "# Create an actor from this class.\n",
    "counter = Counter.remote()"
   ]
  },
  {
   "cell_type": "code",
   "execution_count": 21,
   "id": "b3c76001-cf9f-46c6-90f8-b02607c6dc2f",
   "metadata": {},
   "outputs": [
    {
     "data": {
      "text/plain": [
       "ClientActorHandle(54b961fab34f8a6dfd78e8ba0d000000)"
      ]
     },
     "execution_count": 21,
     "metadata": {},
     "output_type": "execute_result"
    }
   ],
   "source": [
    "counter"
   ]
  },
  {
   "cell_type": "markdown",
   "id": "1d433f63-d66f-4755-9879-f0fa4827a622",
   "metadata": {},
   "source": [
    "### EXECUTE CLASS METHODS REMOTELY"
   ]
  },
  {
   "cell_type": "code",
   "execution_count": 22,
   "id": "4cecfd65-12b5-4ebf-ad33-d1b03f2538f4",
   "metadata": {},
   "outputs": [
    {
     "name": "stdout",
     "output_type": "stream",
     "text": [
      "1\n"
     ]
    }
   ],
   "source": [
    "future = counter.increment.remote()\n",
    "next_value = ray.get(future)\n",
    "print(next_value)"
   ]
  },
  {
   "cell_type": "markdown",
   "id": "d7759b60-80fb-4643-9694-d5e98e3bd52f",
   "metadata": {},
   "source": [
    "### REMOTE LAMBDAS CAN UTILIZE REMOTE CLASSES"
   ]
  },
  {
   "cell_type": "code",
   "execution_count": 23,
   "id": "195ebd4a-b90b-4783-b528-a338c2dba42f",
   "metadata": {},
   "outputs": [
    {
     "name": "stdout",
     "output_type": "stream",
     "text": [
      "2\n"
     ]
    }
   ],
   "source": [
    "@ray.remote\n",
    "def func(counter):\n",
    "    future = counter.increment.remote()\n",
    "    return ray.get(future)\n",
    "\n",
    "# PASS THE DISTRIBUTED COUNTER AS AN ARG\n",
    "future = func.remote(counter)\n",
    "return_value = ray.get(future)\n",
    "print(return_value)"
   ]
  },
  {
   "cell_type": "markdown",
   "id": "68df8ac0-cd11-4b03-b48c-9938651459b8",
   "metadata": {},
   "source": [
    "### THE EMOJI LIBRARY IS NOT INSTALLED LOCALLY"
   ]
  },
  {
   "cell_type": "code",
   "execution_count": 24,
   "id": "c97caccc-7f07-4f4b-9a6d-e918f461d51a",
   "metadata": {},
   "outputs": [
    {
     "ename": "ModuleNotFoundError",
     "evalue": "No module named 'emoji'",
     "output_type": "error",
     "traceback": [
      "\u001b[0;31m---------------------------------------------------------------------------\u001b[0m",
      "\u001b[0;31mModuleNotFoundError\u001b[0m                       Traceback (most recent call last)",
      "Cell \u001b[0;32mIn[24], line 1\u001b[0m\n\u001b[0;32m----> 1\u001b[0m \u001b[38;5;28;01mimport\u001b[39;00m \u001b[38;5;21;01memoji\u001b[39;00m\n",
      "\u001b[0;31mModuleNotFoundError\u001b[0m: No module named 'emoji'"
     ]
    }
   ],
   "source": [
    "import emoji"
   ]
  },
  {
   "cell_type": "markdown",
   "id": "a5b2be95-2a66-4748-af79-425e722b4685",
   "metadata": {},
   "source": [
    "### INSTALL FUNC-SPECIFIC PIP PACKAGES"
   ]
  },
  {
   "cell_type": "code",
   "execution_count": 25,
   "id": "98257aa6-92c8-4845-8154-7576a8f5a924",
   "metadata": {},
   "outputs": [
    {
     "name": "stdout",
     "output_type": "stream",
     "text": [
      "Python is 👍\n"
     ]
    }
   ],
   "source": [
    "@ray.remote(runtime_env={\"pip\": [\"emoji\"]})\n",
    "def func():\n",
    "  import emoji\n",
    "  return emoji.emojize('Python is :thumbs_up:')\n",
    "\n",
    "print(ray.get(func.remote()))"
   ]
  },
  {
   "cell_type": "markdown",
   "id": "73187225-e466-4439-8a63-bc30258076ab",
   "metadata": {},
   "source": [
    "### INSTALL CONNECTION-WIDE PIP PACKAGES"
   ]
  },
  {
   "cell_type": "code",
   "execution_count": null,
   "id": "eebf5e5b-658a-47ea-a325-8e79322ad441",
   "metadata": {},
   "outputs": [],
   "source": [
    "# ray.init(address='ray://193.167.37.127:10001', runtime_env={\"pip\": [\"emoji\"]})"
   ]
  },
  {
   "cell_type": "markdown",
   "id": "09faf10f-2494-4da7-81c6-a6c9896685fd",
   "metadata": {},
   "source": [
    "### RESOURCE RESERVATION\n",
    "- `num_cpus=1` means that each func reserves 1 cpu core.\n",
    "    - CPU bound tasks are best with 1 core.\n",
    "    - Tasks with IO often require 2-3 to run efficiently.\n",
    "- `max_retries=3` means that `local` tasks that fail are automatically retried 3 times before the `global` job fails."
   ]
  },
  {
   "cell_type": "code",
   "execution_count": 26,
   "id": "da5951a5-9442-4e5a-98df-fd35c2bcf168",
   "metadata": {},
   "outputs": [],
   "source": [
    "@ray.remote(num_cpus=1, max_retries=3)\n",
    "def nth_prime_cpu():\n",
    "    import random, time\n",
    "\n",
    "    nums = [random.randrange(100000, 150000) for _ in range(10)]\n",
    "    start_time = time.time()\n",
    "\n",
    "    def is_prime(num):\n",
    "        if num < 2:\n",
    "            return False\n",
    "        for i in range(2, int(num**0.5) + 1):\n",
    "            if num % i == 0:\n",
    "                return False\n",
    "        return True\n",
    "    \n",
    "    # START COMPUTING\n",
    "    for  nth_prime in nums:\n",
    "        count = 0\n",
    "        num = 1\n",
    "            \n",
    "        while count < nth_prime:\n",
    "            num += 1\n",
    "            if is_prime(num):\n",
    "                count += 1\n",
    "            \n",
    "    return time.time() - start_time"
   ]
  },
  {
   "cell_type": "code",
   "execution_count": 27,
   "id": "b7e1bb3c-7943-4da3-a22c-d6ac62bd165e",
   "metadata": {},
   "outputs": [
    {
     "name": "stdout",
     "output_type": "stream",
     "text": [
      "23.899380207061768\n"
     ]
    }
   ],
   "source": [
    "print(ray.get(nth_prime_cpu.remote()))"
   ]
  },
  {
   "cell_type": "markdown",
   "id": "3613fe91-e35f-4304-ac0f-dad2c7d89995",
   "metadata": {},
   "source": [
    "### LAUNCH PARALLEL TASKS ON THE CLUSTER"
   ]
  },
  {
   "cell_type": "code",
   "execution_count": 29,
   "id": "46abfdf0-e471-4f73-8233-9bffeec0941f",
   "metadata": {},
   "outputs": [
    {
     "name": "stdout",
     "output_type": "stream",
     "text": [
      "{\n",
      "    \"accelerator_type:G\": 4.0,\n",
      "    \"node:__internal_head__\": 1.0,\n",
      "    \"node:10.84.60.60\": 1.0,\n",
      "    \"node:10.130.233.68\": 1.0,\n",
      "    \"CPU\": 55.0,\n",
      "    \"object_store_memory\": 34444902323.0,\n",
      "    \"memory\": 115816633344.0,\n",
      "    \"node:10.84.60.62\": 1.0,\n",
      "    \"GPU\": 4.0,\n",
      "    \"node:10.151.173.95\": 1.0,\n",
      "    \"node:10.151.173.100\": 1.0\n",
      "}\n"
     ]
    }
   ],
   "source": [
    "pprint(ray.available_resources())"
   ]
  },
  {
   "cell_type": "code",
   "execution_count": 28,
   "id": "54dbbf18-ca95-400c-966f-522437d355eb",
   "metadata": {},
   "outputs": [
    {
     "name": "stdout",
     "output_type": "stream",
     "text": [
      "\n",
      "EXPERIMENT TOOK 88.626 SECONDS\n"
     ]
    }
   ],
   "source": [
    "num_tasks = 55\n",
    "start_time = time.time()\n",
    "\n",
    "tasks = [nth_prime_cpu.remote() for x in range(num_tasks)]\n",
    "results = ray.get(tasks)\n",
    "delta_time = round(time.time() - start_time, 3)\n",
    "\n",
    "print(f'\\nEXPERIMENT TOOK {delta_time} SECONDS')"
   ]
  },
  {
   "cell_type": "markdown",
   "id": "b78bea30-48c0-4c21-837d-cdc4b0bdf801",
   "metadata": {},
   "source": [
    "### GRAFANA OUTPUT"
   ]
  },
  {
   "cell_type": "markdown",
   "id": "339a0429-f4dc-4cf0-9075-4353ed1b1e57",
   "metadata": {},
   "source": [
    "<center><img src=\"cpu2.png\" /></center>"
   ]
  },
  {
   "cell_type": "code",
   "execution_count": null,
   "id": "65833609-ee0f-41d3-8413-0f5c2436475c",
   "metadata": {},
   "outputs": [],
   "source": []
  },
  {
   "cell_type": "code",
   "execution_count": null,
   "id": "9715d4af-4ee2-49db-aa57-1ec412ba997c",
   "metadata": {},
   "outputs": [],
   "source": []
  },
  {
   "cell_type": "code",
   "execution_count": null,
   "id": "8b248b9f-fe5a-48f4-a428-2437df85749c",
   "metadata": {},
   "outputs": [],
   "source": []
  },
  {
   "cell_type": "code",
   "execution_count": null,
   "id": "2946a075-5ebc-43e4-8c51-5738a45af8db",
   "metadata": {},
   "outputs": [],
   "source": []
  },
  {
   "cell_type": "code",
   "execution_count": null,
   "id": "d1df4c02-e646-460c-a549-54a50c611207",
   "metadata": {},
   "outputs": [],
   "source": []
  },
  {
   "cell_type": "code",
   "execution_count": null,
   "id": "06af9b64-35a9-41cb-943d-a56079e9d287",
   "metadata": {},
   "outputs": [],
   "source": []
  },
  {
   "cell_type": "code",
   "execution_count": null,
   "id": "61d947cd-da78-44e8-a364-0f3b6f1605a3",
   "metadata": {},
   "outputs": [],
   "source": []
  }
 ],
 "metadata": {
  "kernelspec": {
   "display_name": "Python 3 (ipykernel)",
   "language": "python",
   "name": "python3"
  },
  "language_info": {
   "codemirror_mode": {
    "name": "ipython",
    "version": 3
   },
   "file_extension": ".py",
   "mimetype": "text/x-python",
   "name": "python",
   "nbconvert_exporter": "python",
   "pygments_lexer": "ipython3",
   "version": "3.12.3"
  }
 },
 "nbformat": 4,
 "nbformat_minor": 5
}
