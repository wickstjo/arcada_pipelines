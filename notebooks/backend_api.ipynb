{
 "cells": [
  {
   "cell_type": "code",
   "execution_count": 1,
   "id": "bdf314e6",
   "metadata": {},
   "outputs": [],
   "source": [
    "import requests"
   ]
  },
  {
   "cell_type": "code",
   "execution_count": 2,
   "id": "c77521f4",
   "metadata": {},
   "outputs": [],
   "source": [
    "def get_request(endpoint):\n",
    "    result = requests.get(endpoint)\n",
    "    \n",
    "    print(f'RESPONSE STATUS: {result.status_code}\\n')\n",
    "    return result.json()"
   ]
  },
  {
   "cell_type": "code",
   "execution_count": 3,
   "id": "04149f92",
   "metadata": {},
   "outputs": [],
   "source": [
    "def post_request(endpoint, body):\n",
    "    result = requests.post(endpoint, json=body)\n",
    "    \n",
    "    print(f'RESPONSE STATUS: {result.status_code}\\n')\n",
    "    return result.json()"
   ]
  },
  {
   "cell_type": "markdown",
   "id": "43666a26",
   "metadata": {},
   "source": [
    "### CHECK BACKEND ENDPOINT DATA"
   ]
  },
  {
   "cell_type": "code",
   "execution_count": 35,
   "id": "1af8f426",
   "metadata": {},
   "outputs": [
    {
     "name": "stdout",
     "output_type": "stream",
     "text": [
      "RESPONSE STATUS: 200\n",
      "\n"
     ]
    },
    {
     "data": {
      "text/plain": [
       "{'john': ['refined_stock_data']}"
      ]
     },
     "execution_count": 35,
     "metadata": {},
     "output_type": "execute_result"
    }
   ],
   "source": [
    "get_request('http://193.166.180.240:3003/cassandra/')"
   ]
  },
  {
   "cell_type": "markdown",
   "id": "6e397b33",
   "metadata": {},
   "source": [
    "### INIT BACKEND TOPICS/TABLES"
   ]
  },
  {
   "cell_type": "code",
   "execution_count": 56,
   "id": "191caa84",
   "metadata": {},
   "outputs": [
    {
     "name": "stdout",
     "output_type": "stream",
     "text": [
      "RESPONSE STATUS: 201\n",
      "\n"
     ]
    },
    {
     "data": {
      "text/plain": [
       "[\"TOPIC 'data_refinery' CREATED\",\n",
       " \"TOPIC 'data_dispatch' CREATED\",\n",
       " \"TOPIC 'model_training' CREATED\",\n",
       " \"TOPIC 'model_inference' CREATED\",\n",
       " \"TOPIC 'model_analysis' CREATED\",\n",
       " \"TOPIC 'decision_synthesis' CREATED\",\n",
       " \"TOPIC 'events.model_trained' CREATED\",\n",
       " \"TOPIC 'events.model_deployed' CREATED\"]"
      ]
     },
     "execution_count": 56,
     "metadata": {},
     "output_type": "execute_result"
    }
   ],
   "source": [
    "get_request('http://193.166.180.240:3003/kafka/init')"
   ]
  },
  {
   "cell_type": "code",
   "execution_count": 57,
   "id": "25c125b9",
   "metadata": {},
   "outputs": [],
   "source": [
    "#get_request('http://193.166.180.240:3003/cassandra/init')"
   ]
  },
  {
   "cell_type": "markdown",
   "id": "e747ca57",
   "metadata": {},
   "source": [
    "### CREATE NEW CASSANDRA TABLE"
   ]
  },
  {
   "cell_type": "code",
   "execution_count": 6,
   "id": "8e55601f",
   "metadata": {},
   "outputs": [
    {
     "name": "stdout",
     "output_type": "stream",
     "text": [
      "RESPONSE STATUS: 201\n",
      "\n"
     ]
    }
   ],
   "source": [
    "post_request('http://193.166.180.240:3003/cassandra/create', {\n",
    "    \"keyspace_name\": \"john\",\n",
    "    \"table_name\": \"refined_stock_data\",\n",
    "    \"columns\": {\n",
    "        \"timestamp\": \"int\",\n",
    "        \"high\": \"float\",\n",
    "        \"low\": \"float\",\n",
    "        \"open\": \"float\",\n",
    "        \"close\": \"float\",\n",
    "        \"adjusted_close\": \"float\",\n",
    "        \"volume\": \"int\",\n",
    "    },\n",
    "    \"indexing\": [\"timestamp\"]\n",
    "})"
   ]
  },
  {
   "cell_type": "markdown",
   "id": "2e7590fc",
   "metadata": {},
   "source": [
    "### DROP CASSANDRA TABLE"
   ]
  },
  {
   "cell_type": "code",
   "execution_count": 5,
   "id": "27392daa",
   "metadata": {},
   "outputs": [
    {
     "name": "stdout",
     "output_type": "stream",
     "text": [
      "RESPONSE STATUS: 201\n",
      "\n"
     ]
    }
   ],
   "source": [
    "post_request('http://193.166.180.240:3003/cassandra/drop', {\n",
    "    \"keyspace_name\": \"john\",\n",
    "    \"table_name\": \"fresh_testing_data\",\n",
    "})"
   ]
  },
  {
   "cell_type": "code",
   "execution_count": null,
   "id": "6674f0e1",
   "metadata": {},
   "outputs": [],
   "source": []
  },
  {
   "cell_type": "code",
   "execution_count": null,
   "id": "e642884f",
   "metadata": {},
   "outputs": [],
   "source": []
  },
  {
   "cell_type": "code",
   "execution_count": null,
   "id": "0d591e09",
   "metadata": {},
   "outputs": [],
   "source": []
  },
  {
   "cell_type": "code",
   "execution_count": null,
   "id": "1a8b666b",
   "metadata": {},
   "outputs": [],
   "source": []
  },
  {
   "cell_type": "code",
   "execution_count": null,
   "id": "04682a0a",
   "metadata": {},
   "outputs": [],
   "source": []
  },
  {
   "cell_type": "code",
   "execution_count": null,
   "id": "f8522786",
   "metadata": {},
   "outputs": [],
   "source": []
  },
  {
   "cell_type": "code",
   "execution_count": null,
   "id": "0c92cb77",
   "metadata": {},
   "outputs": [],
   "source": []
  },
  {
   "cell_type": "code",
   "execution_count": null,
   "id": "208ce364",
   "metadata": {},
   "outputs": [],
   "source": []
  },
  {
   "cell_type": "code",
   "execution_count": null,
   "id": "89ee310d",
   "metadata": {},
   "outputs": [],
   "source": []
  },
  {
   "cell_type": "code",
   "execution_count": null,
   "id": "793b95b9",
   "metadata": {},
   "outputs": [],
   "source": []
  },
  {
   "cell_type": "code",
   "execution_count": null,
   "id": "26f8f69e",
   "metadata": {},
   "outputs": [],
   "source": []
  },
  {
   "cell_type": "code",
   "execution_count": null,
   "id": "5b6406a6",
   "metadata": {},
   "outputs": [],
   "source": []
  },
  {
   "cell_type": "code",
   "execution_count": null,
   "id": "d519a6b8",
   "metadata": {},
   "outputs": [],
   "source": []
  }
 ],
 "metadata": {
  "kernelspec": {
   "display_name": "Python 3 (ipykernel)",
   "language": "python",
   "name": "python3"
  },
  "language_info": {
   "codemirror_mode": {
    "name": "ipython",
    "version": 3
   },
   "file_extension": ".py",
   "mimetype": "text/x-python",
   "name": "python",
   "nbconvert_exporter": "python",
   "pygments_lexer": "ipython3",
   "version": "3.10.12"
  }
 },
 "nbformat": 4,
 "nbformat_minor": 5
}
