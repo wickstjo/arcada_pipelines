{
 "cells": [
  {
   "cell_type": "code",
   "execution_count": 54,
   "id": "184c9401",
   "metadata": {},
   "outputs": [],
   "source": [
    "import requests, sys, json, random\n",
    "from confluent_kafka import Consumer, Producer"
   ]
  },
  {
   "cell_type": "code",
   "execution_count": 2,
   "id": "eec1a7ba",
   "metadata": {},
   "outputs": [],
   "source": [
    "def get_req(endpoint):\n",
    "    response = requests.get(endpoint)\n",
    "    \n",
    "    print('STATUS:', response.status_code)\n",
    "    return response.json()"
   ]
  },
  {
   "cell_type": "code",
   "execution_count": 3,
   "id": "e5debc56",
   "metadata": {},
   "outputs": [],
   "source": [
    "def post_req(endpoint, body):\n",
    "    response = requests.post(endpoint, json=body)\n",
    "    \n",
    "    print('STATUS:', response.status_code)\n",
    "    return response.json()"
   ]
  },
  {
   "cell_type": "markdown",
   "id": "a9f3c952",
   "metadata": {},
   "source": [
    "### CREATE KAFKA TOPIC"
   ]
  },
  {
   "cell_type": "code",
   "execution_count": 5,
   "id": "4037ac67",
   "metadata": {},
   "outputs": [
    {
     "name": "stdout",
     "output_type": "stream",
     "text": [
      "STATUS: 201\n"
     ]
    },
    {
     "data": {
      "text/plain": [
       "{'topic_name': 'test_topic', 'num_partitions': 2}"
      ]
     },
     "execution_count": 5,
     "metadata": {},
     "output_type": "execute_result"
    }
   ],
   "source": [
    "post_req('http://localhost:3003/kafka/create', {\n",
    "    'name': 'test_topic',\n",
    "    'num_partitions': 2\n",
    "})"
   ]
  },
  {
   "cell_type": "markdown",
   "id": "2c7ddca4",
   "metadata": {},
   "source": [
    "### CREATE CASSANDRA TABLE"
   ]
  },
  {
   "cell_type": "code",
   "execution_count": 67,
   "id": "b107f998",
   "metadata": {},
   "outputs": [
    {
     "name": "stdout",
     "output_type": "stream",
     "text": [
      "STATUS: 201\n"
     ]
    }
   ],
   "source": [
    "post_req('http://localhost:3003/cassandra/create', {\n",
    "    'domain': 'foobar.testing_table',\n",
    "    'columns': {\n",
    "        'timestamp': 'int',\n",
    "        'open': 'float',\n",
    "        'close': 'float',\n",
    "        'high': 'float',\n",
    "        'low': 'float',\n",
    "        'volume': 'int',\n",
    "    },\n",
    "    'indexing': [\n",
    "        'timestamp'\n",
    "    ]\n",
    "})"
   ]
  },
  {
   "cell_type": "code",
   "execution_count": null,
   "id": "5e7be849",
   "metadata": {},
   "outputs": [],
   "source": []
  },
  {
   "cell_type": "code",
   "execution_count": null,
   "id": "ec8d72a4",
   "metadata": {},
   "outputs": [],
   "source": []
  },
  {
   "cell_type": "code",
   "execution_count": null,
   "id": "1b3d1963",
   "metadata": {},
   "outputs": [],
   "source": []
  },
  {
   "cell_type": "code",
   "execution_count": 25,
   "id": "74843d59",
   "metadata": {},
   "outputs": [],
   "source": [
    "KAFKA_SERVERS = 'localhost:11001,localhost:11002'\n",
    "VERBOSE = True\n",
    "\n",
    "class create_producer:\n",
    "\n",
    "    # ON LOAD, CREATE KAFKA PRODUCER\n",
    "    def __init__(self):\n",
    "        self.kafka_client = Producer({\n",
    "            'bootstrap.servers': KAFKA_SERVERS,\n",
    "        })\n",
    "\n",
    "    # MAKE SURE KAFKA CONNECTION IS OK\n",
    "    def connected(self):\n",
    "        try:\n",
    "            metadata = self.kafka_client.list_topics(timeout=2)\n",
    "            print('SUCCESSFULLY CONNECTED TO KAFKA')\n",
    "            return True\n",
    "        except:\n",
    "            print(f'COULD NOT CONNECT WITH KAFKA SERVER ({KAFKA_SERVERS})')\n",
    "            return False\n",
    "\n",
    "    # ON CONSUMER CALLBACK, DO..\n",
    "    def ack_callback(self, error, message):\n",
    "        if error:\n",
    "            print('ACK ERROR', error)\n",
    "        else:\n",
    "            if VERBOSE: print(f'MESSAGE PUSHED')\n",
    "\n",
    "    # PUSH MESSAGE TO A KAFK TOPIC\n",
    "    def push_msg(self, topic_name: str, json_data: dict):\n",
    "\n",
    "        # PUSH MESSAGE TO KAFKA TOPIC\n",
    "        self.kafka_client.produce(\n",
    "            topic_name, \n",
    "            value=json.dumps(json_data).encode('utf-8'),\n",
    "            on_delivery=self.ack_callback,\n",
    "        )\n",
    "\n",
    "        # ASYNCRONOUSLY AWAIT CONSUMER ACK BEFORE SENDING NEXT MSG\n",
    "        self.kafka_client.poll(1)\n",
    "        # self.kafka_client.flush()"
   ]
  },
  {
   "cell_type": "code",
   "execution_count": 26,
   "id": "b6270c87",
   "metadata": {},
   "outputs": [],
   "source": [
    "prod = create_producer()"
   ]
  },
  {
   "cell_type": "code",
   "execution_count": 66,
   "id": "9fb4c841",
   "metadata": {},
   "outputs": [
    {
     "name": "stdout",
     "output_type": "stream",
     "text": [
      "MESSAGE PUSHED\n"
     ]
    }
   ],
   "source": [
    "prod.push_msg('test_topic', {\n",
    "    'timestamp': int(time.time()),\n",
    "    'open': round(random.uniform(5000, 30000), 3),\n",
    "    'close': round(random.uniform(5000, 30000), 3),\n",
    "    'high': round(random.uniform(5000, 30000), 3),\n",
    "    'low': round(random.uniform(5000, 30000), 3),\n",
    "    'volume': random.randint(0, 100000)\n",
    "})"
   ]
  },
  {
   "cell_type": "code",
   "execution_count": null,
   "id": "6362f79b",
   "metadata": {},
   "outputs": [],
   "source": []
  },
  {
   "cell_type": "code",
   "execution_count": null,
   "id": "d3c5dede",
   "metadata": {},
   "outputs": [],
   "source": []
  },
  {
   "cell_type": "code",
   "execution_count": null,
   "id": "efe12928",
   "metadata": {},
   "outputs": [],
   "source": []
  },
  {
   "cell_type": "code",
   "execution_count": null,
   "id": "9941da9c",
   "metadata": {},
   "outputs": [],
   "source": []
  }
 ],
 "metadata": {
  "kernelspec": {
   "display_name": "Python 3 (ipykernel)",
   "language": "python",
   "name": "python3"
  },
  "language_info": {
   "codemirror_mode": {
    "name": "ipython",
    "version": 3
   },
   "file_extension": ".py",
   "mimetype": "text/x-python",
   "name": "python",
   "nbconvert_exporter": "python",
   "pygments_lexer": "ipython3",
   "version": "3.10.12"
  }
 },
 "nbformat": 4,
 "nbformat_minor": 5
}
