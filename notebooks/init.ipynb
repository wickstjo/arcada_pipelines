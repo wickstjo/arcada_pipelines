{
 "cells": [
  {
   "cell_type": "code",
   "execution_count": 41,
   "id": "184c9401",
   "metadata": {},
   "outputs": [],
   "source": [
    "import requests, sys, json, random, time\n",
    "from confluent_kafka import Consumer, Producer"
   ]
  },
  {
   "cell_type": "code",
   "execution_count": 2,
   "id": "eec1a7ba",
   "metadata": {},
   "outputs": [],
   "source": [
    "def get_req(endpoint):\n",
    "    response = requests.get(endpoint)\n",
    "    \n",
    "    print('STATUS:', response.status_code)\n",
    "    return response.json()"
   ]
  },
  {
   "cell_type": "code",
   "execution_count": 3,
   "id": "e5debc56",
   "metadata": {},
   "outputs": [],
   "source": [
    "def post_req(endpoint, body):\n",
    "    response = requests.post(endpoint, json=body)\n",
    "    \n",
    "    print('STATUS:', response.status_code)\n",
    "    return response.json()"
   ]
  },
  {
   "cell_type": "markdown",
   "id": "a9f3c952",
   "metadata": {},
   "source": [
    "### CREATE KAFKA TOPIC"
   ]
  },
  {
   "cell_type": "code",
   "execution_count": 4,
   "id": "4037ac67",
   "metadata": {},
   "outputs": [
    {
     "name": "stdout",
     "output_type": "stream",
     "text": [
      "STATUS: 201\n"
     ]
    },
    {
     "data": {
      "text/plain": [
       "{'topic_name': 'test_topic', 'num_partitions': 2}"
      ]
     },
     "execution_count": 4,
     "metadata": {},
     "output_type": "execute_result"
    }
   ],
   "source": [
    "post_req('http://localhost:3003/kafka/create', {\n",
    "    'name': 'test_topic',\n",
    "    'num_partitions': 2\n",
    "})"
   ]
  },
  {
   "cell_type": "markdown",
   "id": "2c7ddca4",
   "metadata": {},
   "source": [
    "### CREATE CASSANDRA TABLE"
   ]
  },
  {
   "cell_type": "code",
   "execution_count": 5,
   "id": "b107f998",
   "metadata": {},
   "outputs": [
    {
     "name": "stdout",
     "output_type": "stream",
     "text": [
      "STATUS: 201\n"
     ]
    }
   ],
   "source": [
    "post_req('http://localhost:3003/cassandra/create', {\n",
    "    'domain': 'foobar.test_table',\n",
    "    'columns': {\n",
    "        'timestamp': 'int',\n",
    "        'open': 'float',\n",
    "        'close': 'float',\n",
    "        'high': 'float',\n",
    "        'low': 'float',\n",
    "        'volume': 'int',\n",
    "    },\n",
    "    'indexing': [\n",
    "        'timestamp'\n",
    "    ]\n",
    "})"
   ]
  },
  {
   "cell_type": "code",
   "execution_count": null,
   "id": "5e7be849",
   "metadata": {},
   "outputs": [],
   "source": []
  },
  {
   "cell_type": "code",
   "execution_count": null,
   "id": "ec8d72a4",
   "metadata": {},
   "outputs": [],
   "source": []
  },
  {
   "cell_type": "code",
   "execution_count": null,
   "id": "1b3d1963",
   "metadata": {},
   "outputs": [],
   "source": []
  },
  {
   "cell_type": "code",
   "execution_count": 42,
   "id": "74843d59",
   "metadata": {},
   "outputs": [],
   "source": [
    "KAFKA_SERVERS = 'localhost:11001,localhost:11002'\n",
    "VERBOSE = True\n",
    "\n",
    "class create_producer:\n",
    "\n",
    "    # ON LOAD, CREATE KAFKA PRODUCER\n",
    "    def __init__(self):\n",
    "        self.kafka_client = Producer({\n",
    "            'bootstrap.servers': KAFKA_SERVERS,\n",
    "        })\n",
    "\n",
    "    # MAKE SURE KAFKA CONNECTION IS OK\n",
    "    def connected(self):\n",
    "        try:\n",
    "            metadata = self.kafka_client.list_topics(timeout=2)\n",
    "            print('SUCCESSFULLY CONNECTED TO KAFKA')\n",
    "            return True\n",
    "        except:\n",
    "            print(f'COULD NOT CONNECT WITH KAFKA SERVER ({KAFKA_SERVERS})')\n",
    "            return False\n",
    "\n",
    "    # ON CONSUMER CALLBACK, DO..\n",
    "    def ack_callback(self, error, message):\n",
    "        if error:\n",
    "            print('ACK ERROR', error)\n",
    "        else:\n",
    "            if VERBOSE: print(f'MESSAGE PUSHED')\n",
    "\n",
    "    # PUSH MESSAGE TO A KAFK TOPIC\n",
    "    def push_msg(self, topic_name: str, json_data: dict):\n",
    "\n",
    "        # PUSH MESSAGE TO KAFKA TOPIC\n",
    "        self.kafka_client.produce(\n",
    "            topic_name, \n",
    "            value=json.dumps(json_data).encode('utf-8'),\n",
    "            on_delivery=self.ack_callback,\n",
    "        )\n",
    "\n",
    "        # ASYNCRONOUSLY AWAIT CONSUMER ACK BEFORE SENDING NEXT MSG\n",
    "        self.kafka_client.poll(1)\n",
    "        # self.kafka_client.flush()"
   ]
  },
  {
   "cell_type": "code",
   "execution_count": 43,
   "id": "b6270c87",
   "metadata": {},
   "outputs": [],
   "source": [
    "prod = create_producer()"
   ]
  },
  {
   "cell_type": "code",
   "execution_count": 57,
   "id": "9fb4c841",
   "metadata": {},
   "outputs": [
    {
     "name": "stdout",
     "output_type": "stream",
     "text": [
      "MESSAGE PUSHED\n"
     ]
    },
    {
     "name": "stderr",
     "output_type": "stream",
     "text": [
      "%6|1725486222.266|FAIL|rdkafka#producer-2| [thrd:localhost:11002/bootstrap]: localhost:11002/2: Disconnected (after 20451944ms in state UP)\n",
      "%6|1725486232.249|FAIL|rdkafka#producer-2| [thrd:localhost:11001/bootstrap]: localhost:11001/1: Disconnected (after 9967ms in state UP, 1 identical error(s) suppressed)\n",
      "%3|1725486232.249|FAIL|rdkafka#producer-2| [thrd:localhost:11002/bootstrap]: localhost:11002/2: Connect to ipv4#127.0.0.1:11002 failed: Connection refused (after 0ms in state CONNECT)\n",
      "%3|1725486232.493|FAIL|rdkafka#producer-2| [thrd:localhost:11001/bootstrap]: localhost:11001/1: Connect to ipv4#127.0.0.1:11001 failed: Connection refused (after 0ms in state CONNECT)\n",
      "%3|1725486233.493|FAIL|rdkafka#producer-2| [thrd:localhost:11002/bootstrap]: localhost:11002/2: Connect to ipv4#127.0.0.1:11002 failed: Connection refused (after 0ms in state CONNECT, 1 identical error(s) suppressed)\n",
      "%3|1725486262.494|FAIL|rdkafka#producer-2| [thrd:localhost:11001/bootstrap]: localhost:11001/1: Connect to ipv4#127.0.0.1:11001 failed: Connection refused (after 0ms in state CONNECT, 18 identical error(s) suppressed)\n",
      "%3|1725486264.494|FAIL|rdkafka#producer-2| [thrd:localhost:11002/bootstrap]: localhost:11002/2: Connect to ipv4#127.0.0.1:11002 failed: Connection refused (after 0ms in state CONNECT, 12 identical error(s) suppressed)\n",
      "%3|1725486292.494|FAIL|rdkafka#producer-2| [thrd:localhost:11001/bootstrap]: localhost:11001/1: Connect to ipv4#127.0.0.1:11001 failed: Connection refused (after 0ms in state CONNECT, 13 identical error(s) suppressed)\n",
      "%3|1725486294.494|FAIL|rdkafka#producer-2| [thrd:localhost:11002/bootstrap]: localhost:11002/2: Connect to ipv4#127.0.0.1:11002 failed: Connection refused (after 0ms in state CONNECT, 17 identical error(s) suppressed)\n",
      "%3|1725486324.495|FAIL|rdkafka#producer-2| [thrd:localhost:11002/bootstrap]: localhost:11002/2: Connect to ipv4#127.0.0.1:11002 failed: Connection refused (after 0ms in state CONNECT, 17 identical error(s) suppressed)\n",
      "%3|1725486327.495|FAIL|rdkafka#producer-2| [thrd:localhost:11001/bootstrap]: localhost:11001/1: Connect to ipv4#127.0.0.1:11001 failed: Connection refused (after 0ms in state CONNECT, 15 identical error(s) suppressed)\n",
      "%3|1725486354.496|FAIL|rdkafka#producer-2| [thrd:localhost:11002/bootstrap]: localhost:11002/2: Connect to ipv4#127.0.0.1:11002 failed: Connection refused (after 0ms in state CONNECT, 16 identical error(s) suppressed)\n",
      "%3|1725486357.496|FAIL|rdkafka#producer-2| [thrd:localhost:11001/bootstrap]: localhost:11001/1: Connect to ipv4#127.0.0.1:11001 failed: Connection refused (after 0ms in state CONNECT, 14 identical error(s) suppressed)\n",
      "%3|1725486384.497|FAIL|rdkafka#producer-2| [thrd:localhost:11002/bootstrap]: localhost:11002/2: Connect to ipv4#127.0.0.1:11002 failed: Connection refused (after 0ms in state CONNECT, 12 identical error(s) suppressed)\n",
      "%3|1725486387.497|FAIL|rdkafka#producer-2| [thrd:localhost:11001/bootstrap]: localhost:11001/1: Connect to ipv4#127.0.0.1:11001 failed: Connection refused (after 0ms in state CONNECT, 19 identical error(s) suppressed)\n",
      "%3|1725486415.498|FAIL|rdkafka#producer-2| [thrd:localhost:11002/bootstrap]: localhost:11002/2: Connect to ipv4#127.0.0.1:11002 failed: Connection refused (after 0ms in state CONNECT, 11 identical error(s) suppressed)\n",
      "%3|1725486417.498|FAIL|rdkafka#producer-2| [thrd:localhost:11001/bootstrap]: localhost:11001/1: Connect to ipv4#127.0.0.1:11001 failed: Connection refused (after 0ms in state CONNECT, 19 identical error(s) suppressed)\n",
      "%3|1725486447.499|FAIL|rdkafka#producer-2| [thrd:localhost:11001/bootstrap]: localhost:11001/1: Connect to ipv4#127.0.0.1:11001 failed: Connection refused (after 0ms in state CONNECT, 13 identical error(s) suppressed)\n",
      "%3|1725486449.499|FAIL|rdkafka#producer-2| [thrd:localhost:11002/bootstrap]: localhost:11002/2: Connect to ipv4#127.0.0.1:11002 failed: Connection refused (after 0ms in state CONNECT, 19 identical error(s) suppressed)\n",
      "%3|1725486478.499|FAIL|rdkafka#producer-2| [thrd:localhost:11001/bootstrap]: localhost:11001/1: Connect to ipv4#127.0.0.1:11001 failed: Connection refused (after 0ms in state CONNECT, 17 identical error(s) suppressed)\n",
      "%3|1725486479.499|FAIL|rdkafka#producer-2| [thrd:localhost:11002/bootstrap]: localhost:11002/2: Connect to ipv4#127.0.0.1:11002 failed: Connection refused (after 0ms in state CONNECT, 15 identical error(s) suppressed)\n",
      "%3|1725486508.500|FAIL|rdkafka#producer-2| [thrd:localhost:11001/bootstrap]: localhost:11001/1: Connect to ipv4#127.0.0.1:11001 failed: Connection refused (after 0ms in state CONNECT, 17 identical error(s) suppressed)\n",
      "%3|1725486509.500|FAIL|rdkafka#producer-2| [thrd:localhost:11002/bootstrap]: localhost:11002/2: Connect to ipv4#127.0.0.1:11002 failed: Connection refused (after 0ms in state CONNECT, 13 identical error(s) suppressed)\n",
      "%3|1725486538.501|FAIL|rdkafka#producer-2| [thrd:localhost:11001/bootstrap]: localhost:11001/1: Connect to ipv4#127.0.0.1:11001 failed: Connection refused (after 0ms in state CONNECT, 12 identical error(s) suppressed)\n",
      "%3|1725486544.501|FAIL|rdkafka#producer-2| [thrd:localhost:11002/bootstrap]: localhost:11002/2: Connect to ipv4#127.0.0.1:11002 failed: Connection refused (after 0ms in state CONNECT, 18 identical error(s) suppressed)\n",
      "%3|1725486568.502|FAIL|rdkafka#producer-2| [thrd:localhost:11001/bootstrap]: localhost:11001/1: Connect to ipv4#127.0.0.1:11001 failed: Connection refused (after 0ms in state CONNECT, 18 identical error(s) suppressed)\n",
      "%3|1725486574.502|FAIL|rdkafka#producer-2| [thrd:localhost:11002/bootstrap]: localhost:11002/2: Connect to ipv4#127.0.0.1:11002 failed: Connection refused (after 0ms in state CONNECT, 13 identical error(s) suppressed)\n",
      "%3|1725486599.502|FAIL|rdkafka#producer-2| [thrd:localhost:11001/bootstrap]: localhost:11001/1: Connect to ipv4#127.0.0.1:11001 failed: Connection refused (after 0ms in state CONNECT, 17 identical error(s) suppressed)\n",
      "%3|1725486606.502|FAIL|rdkafka#producer-2| [thrd:localhost:11002/bootstrap]: localhost:11002/2: Connect to ipv4#127.0.0.1:11002 failed: Connection refused (after 0ms in state CONNECT, 14 identical error(s) suppressed)\n",
      "%3|1725486630.503|FAIL|rdkafka#producer-2| [thrd:localhost:11001/bootstrap]: localhost:11001/1: Connect to ipv4#127.0.0.1:11001 failed: Connection refused (after 0ms in state CONNECT, 14 identical error(s) suppressed)\n",
      "%3|1725486636.503|FAIL|rdkafka#producer-2| [thrd:localhost:11002/bootstrap]: localhost:11002/2: Connect to ipv4#127.0.0.1:11002 failed: Connection refused (after 0ms in state CONNECT, 21 identical error(s) suppressed)\n",
      "%3|1725486660.504|FAIL|rdkafka#producer-2| [thrd:localhost:11001/bootstrap]: localhost:11001/1: Connect to ipv4#127.0.0.1:11001 failed: Connection refused (after 0ms in state CONNECT, 11 identical error(s) suppressed)\n",
      "%3|1725486666.504|FAIL|rdkafka#producer-2| [thrd:localhost:11002/bootstrap]: localhost:11002/2: Connect to ipv4#127.0.0.1:11002 failed: Connection refused (after 0ms in state CONNECT, 16 identical error(s) suppressed)\n",
      "%3|1725486692.505|FAIL|rdkafka#producer-2| [thrd:localhost:11001/bootstrap]: localhost:11001/1: Connect to ipv4#127.0.0.1:11001 failed: Connection refused (after 0ms in state CONNECT, 13 identical error(s) suppressed)\n",
      "%3|1725486696.505|FAIL|rdkafka#producer-2| [thrd:localhost:11002/bootstrap]: localhost:11002/2: Connect to ipv4#127.0.0.1:11002 failed: Connection refused (after 0ms in state CONNECT, 19 identical error(s) suppressed)\n",
      "%3|1725486724.505|FAIL|rdkafka#producer-2| [thrd:localhost:11001/bootstrap]: localhost:11001/1: Connect to ipv4#127.0.0.1:11001 failed: Connection refused (after 0ms in state CONNECT, 16 identical error(s) suppressed)\n",
      "%3|1725486726.505|FAIL|rdkafka#producer-2| [thrd:localhost:11002/bootstrap]: localhost:11002/2: Connect to ipv4#127.0.0.1:11002 failed: Connection refused (after 0ms in state CONNECT, 15 identical error(s) suppressed)\n",
      "%3|1725486756.506|FAIL|rdkafka#producer-2| [thrd:localhost:11002/bootstrap]: localhost:11002/2: Connect to ipv4#127.0.0.1:11002 failed: Connection refused (after 0ms in state CONNECT, 17 identical error(s) suppressed)\n",
      "%3|1725486757.506|FAIL|rdkafka#producer-2| [thrd:localhost:11001/bootstrap]: localhost:11001/1: Connect to ipv4#127.0.0.1:11001 failed: Connection refused (after 0ms in state CONNECT, 14 identical error(s) suppressed)\n"
     ]
    },
    {
     "name": "stderr",
     "output_type": "stream",
     "text": [
      "%3|1725486786.507|FAIL|rdkafka#producer-2| [thrd:localhost:11002/bootstrap]: localhost:11002/2: Connect to ipv4#127.0.0.1:11002 failed: Connection refused (after 0ms in state CONNECT, 14 identical error(s) suppressed)\n",
      "%3|1725486788.507|FAIL|rdkafka#producer-2| [thrd:localhost:11001/bootstrap]: localhost:11001/1: Connect to ipv4#127.0.0.1:11001 failed: Connection refused (after 0ms in state CONNECT, 17 identical error(s) suppressed)\n",
      "%3|1725486818.508|FAIL|rdkafka#producer-2| [thrd:localhost:11002/bootstrap]: localhost:11002/2: Connect to ipv4#127.0.0.1:11002 failed: Connection refused (after 0ms in state CONNECT, 13 identical error(s) suppressed)\n",
      "%3|1725486819.508|FAIL|rdkafka#producer-2| [thrd:localhost:11001/bootstrap]: localhost:11001/1: Connect to ipv4#127.0.0.1:11001 failed: Connection refused (after 0ms in state CONNECT, 19 identical error(s) suppressed)\n",
      "%3|1725486848.509|FAIL|rdkafka#producer-2| [thrd:localhost:11002/bootstrap]: localhost:11002/2: Connect to ipv4#127.0.0.1:11002 failed: Connection refused (after 0ms in state CONNECT, 14 identical error(s) suppressed)\n",
      "%3|1725486849.509|FAIL|rdkafka#producer-2| [thrd:localhost:11001/bootstrap]: localhost:11001/1: Connect to ipv4#127.0.0.1:11001 failed: Connection refused (after 0ms in state CONNECT, 16 identical error(s) suppressed)\n",
      "%3|1725486878.510|FAIL|rdkafka#producer-2| [thrd:localhost:11002/bootstrap]: localhost:11002/2: Connect to ipv4#127.0.0.1:11002 failed: Connection refused (after 0ms in state CONNECT, 13 identical error(s) suppressed)\n",
      "%3|1725486879.510|FAIL|rdkafka#producer-2| [thrd:localhost:11001/bootstrap]: localhost:11001/1: Connect to ipv4#127.0.0.1:11001 failed: Connection refused (after 0ms in state CONNECT, 17 identical error(s) suppressed)\n",
      "%3|1725486908.511|FAIL|rdkafka#producer-2| [thrd:localhost:11002/bootstrap]: localhost:11002/2: Connect to ipv4#127.0.0.1:11002 failed: Connection refused (after 0ms in state CONNECT, 18 identical error(s) suppressed)\n",
      "%3|1725486915.511|FAIL|rdkafka#producer-2| [thrd:localhost:11001/bootstrap]: localhost:11001/1: Connect to ipv4#127.0.0.1:11001 failed: Connection refused (after 0ms in state CONNECT, 12 identical error(s) suppressed)\n",
      "%3|1725486939.512|FAIL|rdkafka#producer-2| [thrd:localhost:11002/bootstrap]: localhost:11002/2: Connect to ipv4#127.0.0.1:11002 failed: Connection refused (after 0ms in state CONNECT, 20 identical error(s) suppressed)\n",
      "%3|1725486945.512|FAIL|rdkafka#producer-2| [thrd:localhost:11001/bootstrap]: localhost:11001/1: Connect to ipv4#127.0.0.1:11001 failed: Connection refused (after 0ms in state CONNECT, 13 identical error(s) suppressed)\n",
      "%3|1725486969.513|FAIL|rdkafka#producer-2| [thrd:localhost:11002/bootstrap]: localhost:11002/2: Connect to ipv4#127.0.0.1:11002 failed: Connection refused (after 0ms in state CONNECT, 15 identical error(s) suppressed)\n",
      "%3|1725486975.513|FAIL|rdkafka#producer-2| [thrd:localhost:11001/bootstrap]: localhost:11001/1: Connect to ipv4#127.0.0.1:11001 failed: Connection refused (after 0ms in state CONNECT, 17 identical error(s) suppressed)\n",
      "%3|1725486999.513|FAIL|rdkafka#producer-2| [thrd:localhost:11002/bootstrap]: localhost:11002/2: Connect to ipv4#127.0.0.1:11002 failed: Connection refused (after 0ms in state CONNECT, 15 identical error(s) suppressed)\n"
     ]
    }
   ],
   "source": [
    "prod.push_msg('input_data', {\n",
    "    'timestamp': int(time.time()),\n",
    "    'open': round(random.uniform(5000, 30000), 3),\n",
    "    'close': round(random.uniform(5000, 30000), 3),\n",
    "    'high': round(random.uniform(5000, 30000), 3),\n",
    "    'low': round(random.uniform(5000, 30000), 3),\n",
    "    'volume': random.randint(0, 100000)\n",
    "})"
   ]
  },
  {
   "cell_type": "code",
   "execution_count": null,
   "id": "6362f79b",
   "metadata": {},
   "outputs": [],
   "source": []
  },
  {
   "cell_type": "code",
   "execution_count": 54,
   "id": "d3c5dede",
   "metadata": {},
   "outputs": [
    {
     "name": "stdout",
     "output_type": "stream",
     "text": [
      "MESSAGE PUSHED\n"
     ]
    }
   ],
   "source": [
    "prod.push_msg('input_data', {})"
   ]
  },
  {
   "cell_type": "code",
   "execution_count": null,
   "id": "efe12928",
   "metadata": {},
   "outputs": [],
   "source": []
  },
  {
   "cell_type": "code",
   "execution_count": null,
   "id": "9941da9c",
   "metadata": {},
   "outputs": [],
   "source": []
  }
 ],
 "metadata": {
  "kernelspec": {
   "display_name": "Python 3 (ipykernel)",
   "language": "python",
   "name": "python3"
  },
  "language_info": {
   "codemirror_mode": {
    "name": "ipython",
    "version": 3
   },
   "file_extension": ".py",
   "mimetype": "text/x-python",
   "name": "python",
   "nbconvert_exporter": "python",
   "pygments_lexer": "ipython3",
   "version": "3.10.12"
  }
 },
 "nbformat": 4,
 "nbformat_minor": 5
}
