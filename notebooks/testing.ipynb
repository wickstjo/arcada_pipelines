{
 "cells": [
  {
   "cell_type": "code",
   "execution_count": 1,
   "id": "853cc51e",
   "metadata": {},
   "outputs": [],
   "source": [
    "import os"
   ]
  },
  {
   "cell_type": "code",
   "execution_count": null,
   "id": "d9723f92",
   "metadata": {},
   "outputs": [],
   "source": []
  },
  {
   "cell_type": "code",
   "execution_count": 2,
   "id": "56eae3b6",
   "metadata": {},
   "outputs": [],
   "source": [
    "def create_keyspace(name, replication_factor):\n",
    "    return \"\"\"\n",
    "    CREATE KEYSPACE IF NOT EXISTS %s WITH replication = {\n",
    "        'class': 'SimpleStrategy', \n",
    "        'replication_factor': '%s'\n",
    "    };\n",
    "    \"\"\" % (name, replication_factor)"
   ]
  },
  {
   "cell_type": "code",
   "execution_count": 3,
   "id": "00b16cc2",
   "metadata": {},
   "outputs": [
    {
     "data": {
      "text/plain": [
       "\"\\n    CREATE KEYSPACE IF NOT EXISTS foo WITH replication = {\\n        'class': 'SimpleStrategy', \\n        'replication_factor': '3'\\n    };\\n    \""
      ]
     },
     "execution_count": 3,
     "metadata": {},
     "output_type": "execute_result"
    }
   ],
   "source": [
    "create_keyspace('foo', 3)"
   ]
  },
  {
   "cell_type": "code",
   "execution_count": null,
   "id": "3fbe3339",
   "metadata": {},
   "outputs": [],
   "source": []
  },
  {
   "cell_type": "code",
   "execution_count": 4,
   "id": "d9b9e1a2",
   "metadata": {},
   "outputs": [
    {
     "ename": "TypeError",
     "evalue": "not enough arguments for format string",
     "output_type": "error",
     "traceback": [
      "\u001b[0;31m---------------------------------------------------------------------------\u001b[0m",
      "\u001b[0;31mTypeError\u001b[0m                                 Traceback (most recent call last)",
      "Cell \u001b[0;32mIn[4], line 1\u001b[0m\n\u001b[0;32m----> 1\u001b[0m \u001b[38;5;124;43;03m\"\"\"\u001b[39;49;00m\n\u001b[1;32m      2\u001b[0m \u001b[38;5;124;43;03mCREATE KEYSPACE IF NOT EXISTS surface_data WITH replication = {\u001b[39;49;00m\n\u001b[1;32m      3\u001b[0m \u001b[38;5;124;43;03m    'class': 'SimpleStrategy', \u001b[39;49;00m\n\u001b[1;32m      4\u001b[0m \u001b[38;5;124;43;03m    'replication_factor': '%s'\u001b[39;49;00m\n\u001b[1;32m      5\u001b[0m \u001b[38;5;124;43;03m};\u001b[39;49;00m\n\u001b[1;32m      6\u001b[0m \u001b[38;5;124;43;03m\"\"\"\u001b[39;49;00m\u001b[43m \u001b[49m\u001b[38;5;241;43m%\u001b[39;49m\u001b[43m \u001b[49m\u001b[43m(\u001b[49m\u001b[43m)\u001b[49m\n",
      "\u001b[0;31mTypeError\u001b[0m: not enough arguments for format string"
     ]
    }
   ],
   "source": [
    "\"\"\"\n",
    "CREATE KEYSPACE IF NOT EXISTS surface_data WITH replication = {\n",
    "    'class': 'SimpleStrategy', \n",
    "    'replication_factor': '%s'\n",
    "};\n",
    "\"\"\" % ()"
   ]
  },
  {
   "cell_type": "code",
   "execution_count": null,
   "id": "d9dc7d3c",
   "metadata": {},
   "outputs": [],
   "source": []
  },
  {
   "cell_type": "code",
   "execution_count": null,
   "id": "ab977fe8",
   "metadata": {},
   "outputs": [],
   "source": []
  },
  {
   "cell_type": "code",
   "execution_count": null,
   "id": "6f3fc718",
   "metadata": {},
   "outputs": [],
   "source": [
    "def read_file(path):\n",
    "    with open(path, 'r') as content_file:\n",
    "        return content_file.read()\n",
    "\n",
    "files = os.listdir('cql')\n",
    "files.sort()\n",
    "\n",
    "for path in files:\n",
    "    query = read_file(f'cql/{path}')\n",
    "    print(query)\n",
    "    print()"
   ]
  },
  {
   "cell_type": "code",
   "execution_count": null,
   "id": "b2384e69",
   "metadata": {},
   "outputs": [],
   "source": []
  },
  {
   "cell_type": "code",
   "execution_count": null,
   "id": "a7f2979c",
   "metadata": {},
   "outputs": [],
   "source": []
  },
  {
   "cell_type": "code",
   "execution_count": null,
   "id": "af7859e1",
   "metadata": {},
   "outputs": [],
   "source": []
  },
  {
   "cell_type": "code",
   "execution_count": 114,
   "id": "15ac411a",
   "metadata": {},
   "outputs": [],
   "source": [
    "from confluent_kafka.admin import AdminClient, NewPartitions, NewTopic\n",
    "from confluent_kafka import TopicPartition, Consumer"
   ]
  },
  {
   "cell_type": "code",
   "execution_count": 30,
   "id": "7774cef1",
   "metadata": {},
   "outputs": [],
   "source": [
    "from confluent_kafka.admin import AdminClient, NewTopic\n",
    "\n",
    "class create_admin_client:\n",
    "    def __init__(self):\n",
    "        \n",
    "        # KAFKA INSTANCES\n",
    "        ports = [11001, 11002]\n",
    "        brokers = ','.join([f'localhost:{str(x)}' for x in ports])\n",
    "\n",
    "        # ATTEMPT TO CONNECT TO THE CLUSTER\n",
    "        self.instance = AdminClient({\n",
    "            'bootstrap.servers': brokers,\n",
    "        })\n",
    "        \n",
    "    # FETCH ALL EXISTING TOPICS\n",
    "    def all_topics(self):\n",
    "        container = {}\n",
    "        \n",
    "        for name, parts in self.instance.list_topics().topics.items():\n",
    "            container[name] = len(parts.partitions)\n",
    "        \n",
    "        return container\n",
    "    \n",
    "    # CHECK IF TOPIC ALREADY EXISTS\n",
    "    def topic_exists(self, target_topic):\n",
    "        for topic in list(self.all_topics().keys()):\n",
    "            if topic == target_topic:\n",
    "                return True\n",
    "        \n",
    "        return False\n",
    "    \n",
    "    # ATTEMPT TO CREATE A NEW TOPIC\n",
    "    def create_topic(self, name, num_partitions):\n",
    "\n",
    "        # THROW ERROR IF TOPIC ALREADY EXISTS\n",
    "        if self.topic_exists(name):\n",
    "            raise Exception('ERROR: THIS TOPIC ALREADY EXISTS')\n",
    "\n",
    "        # OTHERWISE, CREATE IT\n",
    "        self.instance.create_topics(\n",
    "            new_topics=[NewTopic(\n",
    "                topic=name,\n",
    "                num_partitions=num_partitions,\n",
    "                replication_factor=1,\n",
    "            )]\n",
    "        )"
   ]
  },
  {
   "cell_type": "code",
   "execution_count": null,
   "id": "fc058534",
   "metadata": {},
   "outputs": [],
   "source": []
  },
  {
   "cell_type": "code",
   "execution_count": 83,
   "id": "e69dc347",
   "metadata": {},
   "outputs": [],
   "source": [
    "kafka_admin = create_admin_client()"
   ]
  },
  {
   "cell_type": "code",
   "execution_count": 84,
   "id": "13c6a63b",
   "metadata": {},
   "outputs": [
    {
     "data": {
      "text/plain": [
       "{'eyylmao': 2, 'eyylmaoZ': 5, 'foobarz': 1, 'eyy': 2, 'foobar': 2}"
      ]
     },
     "execution_count": 84,
     "metadata": {},
     "output_type": "execute_result"
    }
   ],
   "source": [
    "kafka_admin.all_topics()"
   ]
  },
  {
   "cell_type": "code",
   "execution_count": null,
   "id": "ecad2707",
   "metadata": {},
   "outputs": [],
   "source": [
    "kafka_admin.create_topic(\n",
    "    name='foobarz',\n",
    "    num_partitions=1\n",
    ")"
   ]
  },
  {
   "cell_type": "code",
   "execution_count": null,
   "id": "5587fc4a",
   "metadata": {},
   "outputs": [],
   "source": []
  },
  {
   "cell_type": "code",
   "execution_count": null,
   "id": "673c82f8",
   "metadata": {},
   "outputs": [],
   "source": []
  },
  {
   "cell_type": "code",
   "execution_count": null,
   "id": "1f1b48ee",
   "metadata": {},
   "outputs": [],
   "source": []
  },
  {
   "cell_type": "code",
   "execution_count": 36,
   "id": "dfe52c5b",
   "metadata": {},
   "outputs": [],
   "source": [
    "import requests"
   ]
  },
  {
   "cell_type": "code",
   "execution_count": 79,
   "id": "361c56e7",
   "metadata": {},
   "outputs": [],
   "source": [
    "def get_req(endpoint):\n",
    "    response = requests.get(endpoint)\n",
    "    \n",
    "    print('STATUS:', response.status_code)\n",
    "    return response.json()"
   ]
  },
  {
   "cell_type": "code",
   "execution_count": 80,
   "id": "04821cfd",
   "metadata": {},
   "outputs": [],
   "source": [
    "def post_req(endpoint, body):\n",
    "    response = requests.post(endpoint, json=body)\n",
    "    \n",
    "    print('STATUS:', response.status_code)\n",
    "    return response.json()"
   ]
  },
  {
   "cell_type": "code",
   "execution_count": null,
   "id": "992224ef",
   "metadata": {},
   "outputs": [],
   "source": []
  },
  {
   "cell_type": "code",
   "execution_count": 81,
   "id": "68aaa1a1",
   "metadata": {},
   "outputs": [
    {
     "name": "stdout",
     "output_type": "stream",
     "text": [
      "STATUS: 200\n"
     ]
    },
    {
     "data": {
      "text/plain": [
       "{'eyylmao': 2, 'eyylmaoZ': 5, 'foobarz': 1, 'eyy': 2, 'foobar': 2}"
      ]
     },
     "execution_count": 81,
     "metadata": {},
     "output_type": "execute_result"
    }
   ],
   "source": [
    "get_req('http://localhost:3003/kafka')"
   ]
  },
  {
   "cell_type": "code",
   "execution_count": null,
   "id": "a8739c8f",
   "metadata": {},
   "outputs": [],
   "source": []
  },
  {
   "cell_type": "code",
   "execution_count": 82,
   "id": "3fe12cb9",
   "metadata": {},
   "outputs": [
    {
     "name": "stdout",
     "output_type": "stream",
     "text": [
      "STATUS: 500\n"
     ]
    },
    {
     "data": {
      "text/plain": [
       "'ERROR: TOPIC ALREADY EXISTS'"
      ]
     },
     "execution_count": 82,
     "metadata": {},
     "output_type": "execute_result"
    }
   ],
   "source": [
    "post_req('http://localhost:3003/kafka/create', {\n",
    "    'name': 'eyylmaoZ',\n",
    "    'num_partitions': 5\n",
    "})"
   ]
  },
  {
   "cell_type": "code",
   "execution_count": null,
   "id": "b71ed215",
   "metadata": {},
   "outputs": [],
   "source": []
  },
  {
   "cell_type": "code",
   "execution_count": null,
   "id": "93011029",
   "metadata": {},
   "outputs": [],
   "source": []
  },
  {
   "cell_type": "code",
   "execution_count": null,
   "id": "5f74c795",
   "metadata": {},
   "outputs": [],
   "source": []
  },
  {
   "cell_type": "code",
   "execution_count": null,
   "id": "1c3ae0d3",
   "metadata": {},
   "outputs": [],
   "source": []
  },
  {
   "cell_type": "code",
   "execution_count": null,
   "id": "3cb62ef6",
   "metadata": {},
   "outputs": [],
   "source": []
  },
  {
   "cell_type": "code",
   "execution_count": null,
   "id": "811e05e7",
   "metadata": {},
   "outputs": [],
   "source": []
  },
  {
   "cell_type": "code",
   "execution_count": null,
   "id": "d6d7a2e1",
   "metadata": {},
   "outputs": [],
   "source": []
  },
  {
   "cell_type": "code",
   "execution_count": null,
   "id": "226f8793",
   "metadata": {},
   "outputs": [],
   "source": []
  }
 ],
 "metadata": {
  "kernelspec": {
   "display_name": "Python 3 (ipykernel)",
   "language": "python",
   "name": "python3"
  },
  "language_info": {
   "codemirror_mode": {
    "name": "ipython",
    "version": 3
   },
   "file_extension": ".py",
   "mimetype": "text/x-python",
   "name": "python",
   "nbconvert_exporter": "python",
   "pygments_lexer": "ipython3",
   "version": "3.10.12"
  }
 },
 "nbformat": 4,
 "nbformat_minor": 5
}
