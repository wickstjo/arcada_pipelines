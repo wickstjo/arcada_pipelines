{
 "cells": [
  {
   "cell_type": "code",
   "execution_count": 1,
   "id": "5c106296",
   "metadata": {},
   "outputs": [],
   "source": [
    "import os"
   ]
  },
  {
   "cell_type": "code",
   "execution_count": null,
   "id": "d9723f92",
   "metadata": {},
   "outputs": [],
   "source": []
  },
  {
   "cell_type": "code",
   "execution_count": 2,
   "id": "3ceed46a",
   "metadata": {},
   "outputs": [],
   "source": [
    "def create_keyspace(name, replication_factor):\n",
    "    return \"\"\"\n",
    "    CREATE KEYSPACE IF NOT EXISTS %s WITH replication = {\n",
    "        'class': 'SimpleStrategy', \n",
    "        'replication_factor': '%s'\n",
    "    };\n",
    "    \"\"\" % (name, replication_factor)"
   ]
  },
  {
   "cell_type": "code",
   "execution_count": 3,
   "id": "c19605ec",
   "metadata": {},
   "outputs": [
    {
     "data": {
      "text/plain": [
       "\"\\n    CREATE KEYSPACE IF NOT EXISTS foo WITH replication = {\\n        'class': 'SimpleStrategy', \\n        'replication_factor': '3'\\n    };\\n    \""
      ]
     },
     "execution_count": 3,
     "metadata": {},
     "output_type": "execute_result"
    }
   ],
   "source": [
    "create_keyspace('foo', 3)"
   ]
  },
  {
   "cell_type": "code",
   "execution_count": null,
   "id": "a2645164",
   "metadata": {},
   "outputs": [],
   "source": []
  },
  {
   "cell_type": "code",
   "execution_count": 4,
   "id": "88678156",
   "metadata": {},
   "outputs": [
    {
     "ename": "TypeError",
     "evalue": "not enough arguments for format string",
     "output_type": "error",
     "traceback": [
      "\u001b[0;31m---------------------------------------------------------------------------\u001b[0m",
      "\u001b[0;31mTypeError\u001b[0m                                 Traceback (most recent call last)",
      "Cell \u001b[0;32mIn[4], line 1\u001b[0m\n\u001b[0;32m----> 1\u001b[0m \u001b[38;5;124;43;03m\"\"\"\u001b[39;49;00m\n\u001b[1;32m      2\u001b[0m \u001b[38;5;124;43;03mCREATE KEYSPACE IF NOT EXISTS surface_data WITH replication = {\u001b[39;49;00m\n\u001b[1;32m      3\u001b[0m \u001b[38;5;124;43;03m    'class': 'SimpleStrategy', \u001b[39;49;00m\n\u001b[1;32m      4\u001b[0m \u001b[38;5;124;43;03m    'replication_factor': '%s'\u001b[39;49;00m\n\u001b[1;32m      5\u001b[0m \u001b[38;5;124;43;03m};\u001b[39;49;00m\n\u001b[1;32m      6\u001b[0m \u001b[38;5;124;43;03m\"\"\"\u001b[39;49;00m\u001b[43m \u001b[49m\u001b[38;5;241;43m%\u001b[39;49m\u001b[43m \u001b[49m\u001b[43m(\u001b[49m\u001b[43m)\u001b[49m\n",
      "\u001b[0;31mTypeError\u001b[0m: not enough arguments for format string"
     ]
    }
   ],
   "source": [
    "\"\"\"\n",
    "CREATE KEYSPACE IF NOT EXISTS surface_data WITH replication = {\n",
    "    'class': 'SimpleStrategy', \n",
    "    'replication_factor': '%s'\n",
    "};\n",
    "\"\"\" % ()"
   ]
  },
  {
   "cell_type": "code",
   "execution_count": null,
   "id": "497060b7",
   "metadata": {},
   "outputs": [],
   "source": []
  },
  {
   "cell_type": "code",
   "execution_count": null,
   "id": "aba60657",
   "metadata": {},
   "outputs": [],
   "source": []
  },
  {
   "cell_type": "code",
   "execution_count": null,
   "id": "2d72f2d7",
   "metadata": {},
   "outputs": [],
   "source": [
    "def read_file(path):\n",
    "    with open(path, 'r') as content_file:\n",
    "        return content_file.read()\n",
    "\n",
    "files = os.listdir('cql')\n",
    "files.sort()\n",
    "\n",
    "for path in files:\n",
    "    query = read_file(f'cql/{path}')\n",
    "    print(query)\n",
    "    print()"
   ]
  },
  {
   "cell_type": "code",
   "execution_count": null,
   "id": "8b5aa6ab",
   "metadata": {},
   "outputs": [],
   "source": []
  },
  {
   "cell_type": "code",
   "execution_count": null,
   "id": "613deb77",
   "metadata": {},
   "outputs": [],
   "source": []
  },
  {
   "cell_type": "code",
   "execution_count": null,
   "id": "38283f8a",
   "metadata": {},
   "outputs": [],
   "source": []
  },
  {
   "cell_type": "code",
   "execution_count": 114,
   "id": "137ca474",
   "metadata": {},
   "outputs": [],
   "source": [
    "from confluent_kafka.admin import AdminClient, NewPartitions, NewTopic\n",
    "from confluent_kafka import TopicPartition, Consumer"
   ]
  },
  {
   "cell_type": "code",
   "execution_count": 30,
   "id": "df401d35",
   "metadata": {},
   "outputs": [],
   "source": [
    "from confluent_kafka.admin import AdminClient, NewTopic\n",
    "\n",
    "class create_admin_client:\n",
    "    def __init__(self):\n",
    "        \n",
    "        # KAFKA INSTANCES\n",
    "        ports = [11001, 11002]\n",
    "        brokers = ','.join([f'localhost:{str(x)}' for x in ports])\n",
    "\n",
    "        # ATTEMPT TO CONNECT TO THE CLUSTER\n",
    "        self.instance = AdminClient({\n",
    "            'bootstrap.servers': brokers,\n",
    "        })\n",
    "        \n",
    "    # FETCH ALL EXISTING TOPICS\n",
    "    def all_topics(self):\n",
    "        container = {}\n",
    "        \n",
    "        for name, parts in self.instance.list_topics().topics.items():\n",
    "            container[name] = len(parts.partitions)\n",
    "        \n",
    "        return container\n",
    "    \n",
    "    # CHECK IF TOPIC ALREADY EXISTS\n",
    "    def topic_exists(self, target_topic):\n",
    "        for topic in list(self.all_topics().keys()):\n",
    "            if topic == target_topic:\n",
    "                return True\n",
    "        \n",
    "        return False\n",
    "    \n",
    "    # ATTEMPT TO CREATE A NEW TOPIC\n",
    "    def create_topic(self, name, num_partitions):\n",
    "\n",
    "        # THROW ERROR IF TOPIC ALREADY EXISTS\n",
    "        if self.topic_exists(name):\n",
    "            raise Exception('ERROR: THIS TOPIC ALREADY EXISTS')\n",
    "\n",
    "        # OTHERWISE, CREATE IT\n",
    "        self.instance.create_topics(\n",
    "            new_topics=[NewTopic(\n",
    "                topic=name,\n",
    "                num_partitions=num_partitions,\n",
    "                replication_factor=1,\n",
    "            )]\n",
    "        )"
   ]
  },
  {
   "cell_type": "code",
   "execution_count": null,
   "id": "b67e3f89",
   "metadata": {},
   "outputs": [],
   "source": []
  },
  {
   "cell_type": "code",
   "execution_count": 83,
   "id": "53b5ba83",
   "metadata": {},
   "outputs": [],
   "source": [
    "kafka_admin = create_admin_client()"
   ]
  },
  {
   "cell_type": "code",
   "execution_count": 84,
   "id": "47052a70",
   "metadata": {},
   "outputs": [
    {
     "data": {
      "text/plain": [
       "{'eyylmao': 2, 'eyylmaoZ': 5, 'foobarz': 1, 'eyy': 2, 'foobar': 2}"
      ]
     },
     "execution_count": 84,
     "metadata": {},
     "output_type": "execute_result"
    }
   ],
   "source": [
    "kafka_admin.all_topics()"
   ]
  },
  {
   "cell_type": "code",
   "execution_count": null,
   "id": "f8792e27",
   "metadata": {},
   "outputs": [],
   "source": [
    "kafka_admin.create_topic(\n",
    "    name='foobarz',\n",
    "    num_partitions=1\n",
    ")"
   ]
  },
  {
   "cell_type": "code",
   "execution_count": null,
   "id": "78635013",
   "metadata": {},
   "outputs": [],
   "source": []
  },
  {
   "cell_type": "code",
   "execution_count": null,
   "id": "2d81ce99",
   "metadata": {},
   "outputs": [],
   "source": []
  },
  {
   "cell_type": "code",
   "execution_count": null,
   "id": "e98d6969",
   "metadata": {},
   "outputs": [],
   "source": []
  },
  {
   "cell_type": "code",
   "execution_count": 36,
   "id": "6a0a1977",
   "metadata": {},
   "outputs": [],
   "source": [
    "import requests"
   ]
  },
  {
   "cell_type": "code",
   "execution_count": 79,
   "id": "cfff4693",
   "metadata": {},
   "outputs": [],
   "source": [
    "def get_req(endpoint):\n",
    "    response = requests.get(endpoint)\n",
    "    \n",
    "    print('STATUS:', response.status_code)\n",
    "    return response.json()"
   ]
  },
  {
   "cell_type": "code",
   "execution_count": 80,
   "id": "1b068e86",
   "metadata": {},
   "outputs": [],
   "source": [
    "def post_req(endpoint, body):\n",
    "    response = requests.post(endpoint, json=body)\n",
    "    \n",
    "    print('STATUS:', response.status_code)\n",
    "    return response.json()"
   ]
  },
  {
   "cell_type": "code",
   "execution_count": null,
   "id": "59e13603",
   "metadata": {},
   "outputs": [],
   "source": []
  },
  {
   "cell_type": "code",
   "execution_count": 81,
   "id": "83881a2b",
   "metadata": {},
   "outputs": [
    {
     "name": "stdout",
     "output_type": "stream",
     "text": [
      "STATUS: 200\n"
     ]
    },
    {
     "data": {
      "text/plain": [
       "{'eyylmao': 2, 'eyylmaoZ': 5, 'foobarz': 1, 'eyy': 2, 'foobar': 2}"
      ]
     },
     "execution_count": 81,
     "metadata": {},
     "output_type": "execute_result"
    }
   ],
   "source": [
    "get_req('http://localhost:3003/kafka')"
   ]
  },
  {
   "cell_type": "code",
   "execution_count": null,
   "id": "444c33bd",
   "metadata": {},
   "outputs": [],
   "source": []
  },
  {
   "cell_type": "code",
   "execution_count": 128,
   "id": "f9c398c8",
   "metadata": {},
   "outputs": [
    {
     "name": "stdout",
     "output_type": "stream",
     "text": [
      "STATUS: 201\n"
     ]
    },
    {
     "data": {
      "text/plain": [
       "{'topic_name': 'eyylmaoZ', 'num_partitions': 5}"
      ]
     },
     "execution_count": 128,
     "metadata": {},
     "output_type": "execute_result"
    }
   ],
   "source": [
    "post_req('http://localhost:3003/kafka/create', {\n",
    "    'name': 'eyylmaoZ',\n",
    "    'num_partitions': 5\n",
    "})"
   ]
  },
  {
   "cell_type": "code",
   "execution_count": null,
   "id": "2ee2f326",
   "metadata": {},
   "outputs": [],
   "source": []
  },
  {
   "cell_type": "code",
   "execution_count": 221,
   "id": "675648eb",
   "metadata": {},
   "outputs": [
    {
     "name": "stdout",
     "output_type": "stream",
     "text": [
      "STATUS: 201\n"
     ]
    }
   ],
   "source": [
    "post_req('http://localhost:3003/cassandra/create', {\n",
    "    'domain': 'project.foo',\n",
    "    'columns': {\n",
    "        'first': 'text',\n",
    "        'second': 'text',\n",
    "        'third': 'text',\n",
    "    },\n",
    "    'indexing': [\n",
    "        'second', \n",
    "        'third'\n",
    "    ]\n",
    "})"
   ]
  },
  {
   "cell_type": "code",
   "execution_count": null,
   "id": "8db97540",
   "metadata": {},
   "outputs": [],
   "source": []
  },
  {
   "cell_type": "code",
   "execution_count": null,
   "id": "a4d9775c",
   "metadata": {},
   "outputs": [],
   "source": []
  },
  {
   "cell_type": "code",
   "execution_count": null,
   "id": "a0eebccf",
   "metadata": {},
   "outputs": [],
   "source": []
  },
  {
   "cell_type": "code",
   "execution_count": null,
   "id": "4cb9a251",
   "metadata": {},
   "outputs": [],
   "source": []
  },
  {
   "cell_type": "code",
   "execution_count": null,
   "id": "4c62149a",
   "metadata": {},
   "outputs": [],
   "source": []
  },
  {
   "cell_type": "code",
   "execution_count": null,
   "id": "e9f144c1",
   "metadata": {},
   "outputs": [],
   "source": []
  },
  {
   "cell_type": "code",
   "execution_count": null,
   "id": "8917086f",
   "metadata": {},
   "outputs": [],
   "source": []
  },
  {
   "cell_type": "code",
   "execution_count": 129,
   "id": "9023d042",
   "metadata": {},
   "outputs": [],
   "source": [
    "from cassandra.cluster import Cluster\n",
    "from cassandra.auth import PlainTextAuthProvider"
   ]
  },
  {
   "cell_type": "code",
   "execution_count": 134,
   "id": "006d890c",
   "metadata": {},
   "outputs": [],
   "source": [
    "cluster = Cluster([('localhost', 12001), ('localhost', 12002)])\n",
    "instance = cluster.connect()"
   ]
  },
  {
   "cell_type": "code",
   "execution_count": null,
   "id": "43ad698d",
   "metadata": {},
   "outputs": [],
   "source": []
  },
  {
   "cell_type": "code",
   "execution_count": null,
   "id": "a64aa018",
   "metadata": {},
   "outputs": [],
   "source": []
  },
  {
   "cell_type": "code",
   "execution_count": 182,
   "id": "8c327e43",
   "metadata": {},
   "outputs": [],
   "source": [
    "class create_cassandra_instance:\n",
    "    def __init__(self):\n",
    "        cluster = Cluster([('localhost', 12001), ('localhost', 12002)])\n",
    "        self.instance = cluster.connect()\n",
    "    \n",
    "    def table_overview(self):\n",
    "        container = []\n",
    "        \n",
    "        # BLACKLIST SYSTEM NAMESPACES\n",
    "        blacklist = ['system_auth', 'system_schema', 'system_distributed', 'system', 'system_traces']\n",
    "        \n",
    "        raw_result = cassandra.instance.execute(\n",
    "            \"SELECT keyspace_name, table_name FROM system_schema.tables\"\n",
    "        )\n",
    "        \n",
    "        for row in results:\n",
    "            if row.keyspace_name not in blacklist:\n",
    "                container.append(row)"
   ]
  },
  {
   "cell_type": "code",
   "execution_count": 139,
   "id": "b6a43bd8",
   "metadata": {},
   "outputs": [],
   "source": [
    "cassandra = create_cassandra_instance()"
   ]
  },
  {
   "cell_type": "code",
   "execution_count": 142,
   "id": "42bfe7d7",
   "metadata": {
    "scrolled": true
   },
   "outputs": [
    {
     "data": {
      "text/plain": [
       "['__class__',\n",
       " '__del__',\n",
       " '__delattr__',\n",
       " '__dict__',\n",
       " '__dir__',\n",
       " '__doc__',\n",
       " '__enter__',\n",
       " '__eq__',\n",
       " '__exit__',\n",
       " '__format__',\n",
       " '__ge__',\n",
       " '__getattribute__',\n",
       " '__gt__',\n",
       " '__hash__',\n",
       " '__init__',\n",
       " '__init_subclass__',\n",
       " '__le__',\n",
       " '__lt__',\n",
       " '__module__',\n",
       " '__ne__',\n",
       " '__new__',\n",
       " '__reduce__',\n",
       " '__reduce_ex__',\n",
       " '__repr__',\n",
       " '__setattr__',\n",
       " '__sizeof__',\n",
       " '__str__',\n",
       " '__subclasshook__',\n",
       " '__weakref__',\n",
       " '_check_graph_paging_available',\n",
       " '_create_response_future',\n",
       " '_default_consistency_level',\n",
       " '_default_serial_consistency_level',\n",
       " '_default_timeout',\n",
       " '_graph_paging_available',\n",
       " '_initial_connect_futures',\n",
       " '_lock',\n",
       " '_maybe_get_execution_profile',\n",
       " '_maybe_set_graph_paging',\n",
       " '_metrics',\n",
       " '_monitor_reporter',\n",
       " '_on_analytics_master_result',\n",
       " '_on_request',\n",
       " '_pools',\n",
       " '_profile_manager',\n",
       " '_protocol_version',\n",
       " '_request_init_callbacks',\n",
       " '_resolve_execution_profile_options',\n",
       " '_row_factory',\n",
       " '_set_keyspace_for_all_pools',\n",
       " '_target_analytics_master',\n",
       " '_transform_params',\n",
       " '_validate_set_legacy_config',\n",
       " 'add_or_renew_pool',\n",
       " 'add_request_init_listener',\n",
       " 'client_protocol_handler',\n",
       " 'cluster',\n",
       " 'default_consistency_level',\n",
       " 'default_fetch_size',\n",
       " 'default_serial_consistency_level',\n",
       " 'default_timeout',\n",
       " 'encoder',\n",
       " 'execute',\n",
       " 'execute_async',\n",
       " 'execute_graph',\n",
       " 'execute_graph_async',\n",
       " 'execution_profile_clone_update',\n",
       " 'get_execution_profile',\n",
       " 'get_pool_state',\n",
       " 'get_pools',\n",
       " 'hosts',\n",
       " 'is_shutdown',\n",
       " 'keyspace',\n",
       " 'max_trace_wait',\n",
       " 'on_down',\n",
       " 'on_remove',\n",
       " 'prepare',\n",
       " 'prepare_on_all_hosts',\n",
       " 'remove_pool',\n",
       " 'remove_request_init_listener',\n",
       " 'row_factory',\n",
       " 'session_id',\n",
       " 'set_keyspace',\n",
       " 'shutdown',\n",
       " 'submit',\n",
       " 'timestamp_generator',\n",
       " 'update_created_pools',\n",
       " 'use_client_timestamp',\n",
       " 'user_type_registered']"
      ]
     },
     "execution_count": 142,
     "metadata": {},
     "output_type": "execute_result"
    }
   ],
   "source": [
    "dir(cassandra.instance)"
   ]
  },
  {
   "cell_type": "code",
   "execution_count": null,
   "id": "764b1118",
   "metadata": {},
   "outputs": [],
   "source": []
  },
  {
   "cell_type": "code",
   "execution_count": 181,
   "id": "2a41a440",
   "metadata": {},
   "outputs": [],
   "source": [
    "blacklist = ['system_auth', 'system_schema', 'system_distributed', 'system', 'system_traces']"
   ]
  },
  {
   "cell_type": "code",
   "execution_count": null,
   "id": "ef5f87a1",
   "metadata": {},
   "outputs": [],
   "source": []
  },
  {
   "cell_type": "code",
   "execution_count": null,
   "id": "4acdaa96",
   "metadata": {},
   "outputs": [],
   "source": []
  },
  {
   "cell_type": "code",
   "execution_count": 180,
   "id": "46c6b278",
   "metadata": {
    "scrolled": true
   },
   "outputs": [
    {
     "name": "stdout",
     "output_type": "stream",
     "text": [
      "Row(keyspace_name='system_traces', table_name='events')\n",
      "Row(keyspace_name='system_traces', table_name='sessions')\n"
     ]
    }
   ],
   "source": [
    "results = cassandra.instance.execute(\"SELECT keyspace_name, table_name FROM system_schema.tables\")\n",
    "\n",
    "for row in results:\n",
    "    if row.keyspace_name not in blacklist:\n",
    "        print(row)"
   ]
  },
  {
   "cell_type": "code",
   "execution_count": null,
   "id": "4bdca0f0",
   "metadata": {},
   "outputs": [],
   "source": []
  },
  {
   "cell_type": "code",
   "execution_count": 169,
   "id": "8130c2b6",
   "metadata": {},
   "outputs": [
    {
     "name": "stdout",
     "output_type": "stream",
     "text": [
      "Row(keyspace_name='system_auth', table_name='network_permissions', column_name='dcs', clustering_order='none', column_name_bytes=b'dcs', kind='regular', position=-1, type='frozen<set<text>>')\n",
      "Row(keyspace_name='system_auth', table_name='network_permissions', column_name='role', clustering_order='none', column_name_bytes=b'role', kind='partition_key', position=0, type='text')\n"
     ]
    }
   ],
   "source": [
    "results = cassandra.instance.execute(\"\"\"\n",
    "    SELECT * FROM system_schema.columns \n",
    "    WHERE keyspace_name = %s AND table_name = %s\n",
    "\"\"\", ('system_auth', 'network_permissions'))\n",
    "\n",
    "for row in results:\n",
    "    print(row)"
   ]
  },
  {
   "cell_type": "code",
   "execution_count": null,
   "id": "08d25a64",
   "metadata": {},
   "outputs": [],
   "source": []
  },
  {
   "cell_type": "code",
   "execution_count": null,
   "id": "2742c774",
   "metadata": {},
   "outputs": [],
   "source": []
  },
  {
   "cell_type": "code",
   "execution_count": 186,
   "id": "9586eb52",
   "metadata": {},
   "outputs": [
    {
     "data": {
      "text/plain": [
       "[]"
      ]
     },
     "execution_count": 186,
     "metadata": {},
     "output_type": "execute_result"
    }
   ],
   "source": [
    "cassandra.instance.execute(\"\"\"\n",
    "CREATE KEYSPACE IF NOT EXISTS experiment WITH replication = {\n",
    "    'class': 'SimpleStrategy', \n",
    "    'replication_factor': '%s'\n",
    "};\n",
    "\"\"\" % 1).all()"
   ]
  },
  {
   "cell_type": "code",
   "execution_count": null,
   "id": "e514f1c7",
   "metadata": {},
   "outputs": [],
   "source": []
  },
  {
   "cell_type": "code",
   "execution_count": 189,
   "id": "29f40e55",
   "metadata": {},
   "outputs": [
    {
     "data": {
      "text/plain": [
       "[]"
      ]
     },
     "execution_count": 189,
     "metadata": {},
     "output_type": "execute_result"
    }
   ],
   "source": [
    "cassandra.instance.execute(\"\"\"\n",
    "CREATE TABLE experiment.sensor_1C (timestamp text, serial_number text, vector list<double>, PRIMARY KEY(timestamp, serial_number));\n",
    "\"\"\").all()"
   ]
  },
  {
   "cell_type": "code",
   "execution_count": null,
   "id": "3a229332",
   "metadata": {},
   "outputs": [],
   "source": []
  },
  {
   "cell_type": "code",
   "execution_count": 207,
   "id": "0116572b",
   "metadata": {},
   "outputs": [],
   "source": [
    "def create_table_query(self, tbl_name, columns, primary_keys):\n",
    "    \n",
    "    # MAKE SURE PRIMARY KEYS ARE OK\n",
    "    for key in primary_keys:\n",
    "        col_list = list(columns.keys())\n",
    "        \n",
    "        if key not in col_list:\n",
    "            raise Exception(f\"PRIMARY KEY '{key}' IS NOT A VALID COLUMN\")\n",
    "    \n",
    "    # BASE QUERY\n",
    "    query = f'CREATE TABLE experiment.{tbl_name} ('\n",
    "    \n",
    "    # LOOP IN COLUMNS\n",
    "    for column_name, column_type in columns.items():\n",
    "        query += f'{column_name} {column_type}, '\n",
    "        \n",
    "    # ADD PRIMARY KEYS\n",
    "    key_string = ', '.join(primary_keys)\n",
    "    query += f'PRIMARY KEY({key_string}));' \n",
    "    \n",
    "    return query"
   ]
  },
  {
   "cell_type": "code",
   "execution_count": 211,
   "id": "4b349872",
   "metadata": {},
   "outputs": [
    {
     "data": {
      "text/plain": [
       "'CREATE TABLE experiment.expanse (foo bar, biz baz, PRIMARY KEY(foo));'"
      ]
     },
     "execution_count": 211,
     "metadata": {},
     "output_type": "execute_result"
    }
   ],
   "source": [
    "create_tbl('expanse', {\n",
    "    'foo': 'bar',\n",
    "    'biz': 'baz'\n",
    "}, ['foo'])"
   ]
  },
  {
   "cell_type": "code",
   "execution_count": null,
   "id": "3d491f85",
   "metadata": {},
   "outputs": [],
   "source": []
  },
  {
   "cell_type": "code",
   "execution_count": null,
   "id": "39b298af",
   "metadata": {},
   "outputs": [],
   "source": []
  },
  {
   "cell_type": "code",
   "execution_count": null,
   "id": "b0722fac",
   "metadata": {},
   "outputs": [],
   "source": [
    "base = \"\"\"\n",
    "CREATE TABLE experiment.sensor_1B (\n",
    "    timestamp text,\n",
    "    serial_number text,\n",
    "    vector list<double>,\n",
    "    PRIMARY KEY(timestamp, serial_number)\n",
    ");\n",
    "\"\"\""
   ]
  },
  {
   "cell_type": "code",
   "execution_count": null,
   "id": "ab2891ea",
   "metadata": {},
   "outputs": [],
   "source": []
  },
  {
   "cell_type": "code",
   "execution_count": null,
   "id": "bab2650e",
   "metadata": {},
   "outputs": [],
   "source": []
  },
  {
   "cell_type": "code",
   "execution_count": null,
   "id": "82172a99",
   "metadata": {},
   "outputs": [],
   "source": []
  },
  {
   "cell_type": "code",
   "execution_count": 15,
   "id": "2c8a94bd",
   "metadata": {},
   "outputs": [],
   "source": [
    "import re"
   ]
  },
  {
   "cell_type": "code",
   "execution_count": null,
   "id": "5c610c7c",
   "metadata": {},
   "outputs": [],
   "source": []
  },
  {
   "cell_type": "code",
   "execution_count": 46,
   "id": "61c7ea66",
   "metadata": {},
   "outputs": [],
   "source": [
    "test_string = \"cnn::my_cool_model::v3\""
   ]
  },
  {
   "cell_type": "code",
   "execution_count": 47,
   "id": "1c7b3f4f",
   "metadata": {},
   "outputs": [],
   "source": [
    "match = re.match(r'(.+?)::(.+?)::v(\\d+)', test_string)"
   ]
  },
  {
   "cell_type": "code",
   "execution_count": 48,
   "id": "5d16157e",
   "metadata": {},
   "outputs": [
    {
     "data": {
      "text/plain": [
       "('cnn', 'my_cool_model', '3')"
      ]
     },
     "execution_count": 48,
     "metadata": {},
     "output_type": "execute_result"
    }
   ],
   "source": [
    "match.groups()"
   ]
  },
  {
   "cell_type": "code",
   "execution_count": null,
   "id": "26f35aab",
   "metadata": {},
   "outputs": [],
   "source": []
  },
  {
   "cell_type": "code",
   "execution_count": null,
   "id": "db74f766",
   "metadata": {},
   "outputs": [],
   "source": []
  },
  {
   "cell_type": "code",
   "execution_count": null,
   "id": "d7a6888b",
   "metadata": {},
   "outputs": [],
   "source": []
  },
  {
   "cell_type": "code",
   "execution_count": 64,
   "id": "2ac2e719",
   "metadata": {},
   "outputs": [],
   "source": [
    "def split_model_id(input_data: str):\n",
    "    match = re.match(r'(.+?)::(.+?)::v(\\d+)', input_data)\n",
    "    \n",
    "    if not match:\n",
    "        raise Exception(f'MODEL NAME DID NOT FOLLOW REGEX PATTERN ({input_data})')\n",
    "    \n",
    "    model_type, model_name, model_version = match.groups()\n",
    "    \n",
    "    if not model_version.isnumeric():\n",
    "        raise Exception(f'MODEL NAME IS NOT NUMERIC ({model_version})')\n",
    "    \n",
    "    return [model_type, model_name, int(model_version)]"
   ]
  },
  {
   "cell_type": "code",
   "execution_count": null,
   "id": "0b42b2e7",
   "metadata": {},
   "outputs": [],
   "source": []
  },
  {
   "cell_type": "code",
   "execution_count": 67,
   "id": "de1a9df5",
   "metadata": {},
   "outputs": [
    {
     "data": {
      "text/plain": [
       "['cnn', 'my_cool_model', 3]"
      ]
     },
     "execution_count": 67,
     "metadata": {},
     "output_type": "execute_result"
    }
   ],
   "source": [
    "split_model_id('cnn::my_cool_model::v3')"
   ]
  },
  {
   "cell_type": "code",
   "execution_count": null,
   "id": "61beffd4",
   "metadata": {},
   "outputs": [],
   "source": []
  },
  {
   "cell_type": "code",
   "execution_count": null,
   "id": "8bae024e",
   "metadata": {},
   "outputs": [],
   "source": []
  },
  {
   "cell_type": "code",
   "execution_count": null,
   "id": "e7103348",
   "metadata": {},
   "outputs": [],
   "source": [
    "# Example string\n",
    "text = \"part_one::part_two::part_three\"\n",
    "\n",
    "# Regular expression to match three parts separated by ::\n",
    "pattern = r'(.+?)::(.+?)::(.+?)'\n",
    "\n",
    "# Using re.match to find the match\n",
    "match = re.match(pattern, text)\n",
    "\n",
    "if match:\n",
    "    part_one, part_two, part_three = match.groups()\n",
    "    print(f\"Part One: {part_one}\")\n",
    "    print(f\"Part Two: {part_two}\")\n",
    "    print(f\"Part Three: {part_three}\")\n",
    "else:\n",
    "    print(\"No match found.\")\n"
   ]
  },
  {
   "cell_type": "code",
   "execution_count": null,
   "id": "5a09eb3c",
   "metadata": {},
   "outputs": [],
   "source": []
  },
  {
   "cell_type": "code",
   "execution_count": null,
   "id": "000dc761",
   "metadata": {},
   "outputs": [],
   "source": []
  },
  {
   "cell_type": "code",
   "execution_count": 45,
   "id": "638abf54",
   "metadata": {},
   "outputs": [
    {
     "data": {
      "text/plain": [
       "False"
      ]
     },
     "execution_count": 45,
     "metadata": {},
     "output_type": "execute_result"
    }
   ],
   "source": [
    "'str'.isnumeric()"
   ]
  },
  {
   "cell_type": "code",
   "execution_count": null,
   "id": "79023d56",
   "metadata": {},
   "outputs": [],
   "source": []
  },
  {
   "cell_type": "code",
   "execution_count": 42,
   "id": "14d45c7d",
   "metadata": {},
   "outputs": [
    {
     "data": {
      "text/plain": [
       "['__add__',\n",
       " '__class__',\n",
       " '__contains__',\n",
       " '__delattr__',\n",
       " '__dir__',\n",
       " '__doc__',\n",
       " '__eq__',\n",
       " '__format__',\n",
       " '__ge__',\n",
       " '__getattribute__',\n",
       " '__getitem__',\n",
       " '__getnewargs__',\n",
       " '__gt__',\n",
       " '__hash__',\n",
       " '__init__',\n",
       " '__init_subclass__',\n",
       " '__iter__',\n",
       " '__le__',\n",
       " '__len__',\n",
       " '__lt__',\n",
       " '__mod__',\n",
       " '__mul__',\n",
       " '__ne__',\n",
       " '__new__',\n",
       " '__reduce__',\n",
       " '__reduce_ex__',\n",
       " '__repr__',\n",
       " '__rmod__',\n",
       " '__rmul__',\n",
       " '__setattr__',\n",
       " '__sizeof__',\n",
       " '__str__',\n",
       " '__subclasshook__',\n",
       " 'capitalize',\n",
       " 'casefold',\n",
       " 'center',\n",
       " 'count',\n",
       " 'encode',\n",
       " 'endswith',\n",
       " 'expandtabs',\n",
       " 'find',\n",
       " 'format',\n",
       " 'format_map',\n",
       " 'index',\n",
       " 'isalnum',\n",
       " 'isalpha',\n",
       " 'isascii',\n",
       " 'isdecimal',\n",
       " 'isdigit',\n",
       " 'isidentifier',\n",
       " 'islower',\n",
       " 'isnumeric',\n",
       " 'isprintable',\n",
       " 'isspace',\n",
       " 'istitle',\n",
       " 'isupper',\n",
       " 'join',\n",
       " 'ljust',\n",
       " 'lower',\n",
       " 'lstrip',\n",
       " 'maketrans',\n",
       " 'partition',\n",
       " 'removeprefix',\n",
       " 'removesuffix',\n",
       " 'replace',\n",
       " 'rfind',\n",
       " 'rindex',\n",
       " 'rjust',\n",
       " 'rpartition',\n",
       " 'rsplit',\n",
       " 'rstrip',\n",
       " 'split',\n",
       " 'splitlines',\n",
       " 'startswith',\n",
       " 'strip',\n",
       " 'swapcase',\n",
       " 'title',\n",
       " 'translate',\n",
       " 'upper',\n",
       " 'zfill']"
      ]
     },
     "execution_count": 42,
     "metadata": {},
     "output_type": "execute_result"
    }
   ],
   "source": [
    "dir('3')"
   ]
  },
  {
   "cell_type": "code",
   "execution_count": null,
   "id": "6c473504",
   "metadata": {},
   "outputs": [],
   "source": []
  },
  {
   "cell_type": "code",
   "execution_count": null,
   "id": "0a803039",
   "metadata": {},
   "outputs": [],
   "source": []
  },
  {
   "cell_type": "code",
   "execution_count": null,
   "id": "c968f173",
   "metadata": {},
   "outputs": [],
   "source": []
  },
  {
   "cell_type": "code",
   "execution_count": null,
   "id": "6b99bc72",
   "metadata": {},
   "outputs": [],
   "source": []
  },
  {
   "cell_type": "code",
   "execution_count": null,
   "id": "2d9c3ffe",
   "metadata": {},
   "outputs": [],
   "source": []
  },
  {
   "cell_type": "code",
   "execution_count": null,
   "id": "40f62863",
   "metadata": {},
   "outputs": [],
   "source": []
  },
  {
   "cell_type": "code",
   "execution_count": null,
   "id": "6cae2baf",
   "metadata": {},
   "outputs": [],
   "source": []
  },
  {
   "cell_type": "code",
   "execution_count": null,
   "id": "8ac3cec9",
   "metadata": {},
   "outputs": [],
   "source": []
  },
  {
   "cell_type": "code",
   "execution_count": null,
   "id": "1cc3adc2",
   "metadata": {},
   "outputs": [],
   "source": []
  },
  {
   "cell_type": "code",
   "execution_count": null,
   "id": "9d81029d",
   "metadata": {},
   "outputs": [],
   "source": []
  },
  {
   "cell_type": "code",
   "execution_count": null,
   "id": "460f7378",
   "metadata": {},
   "outputs": [],
   "source": []
  },
  {
   "cell_type": "code",
   "execution_count": null,
   "id": "0f09fa50",
   "metadata": {},
   "outputs": [],
   "source": []
  },
  {
   "cell_type": "code",
   "execution_count": null,
   "id": "2dea46df",
   "metadata": {},
   "outputs": [],
   "source": []
  },
  {
   "cell_type": "code",
   "execution_count": null,
   "id": "226f8793",
   "metadata": {},
   "outputs": [],
   "source": []
  }
 ],
 "metadata": {
  "kernelspec": {
   "display_name": "Python 3 (ipykernel)",
   "language": "python",
   "name": "python3"
  },
  "language_info": {
   "codemirror_mode": {
    "name": "ipython",
    "version": 3
   },
   "file_extension": ".py",
   "mimetype": "text/x-python",
   "name": "python",
   "nbconvert_exporter": "python",
   "pygments_lexer": "ipython3",
   "version": "3.10.12"
  }
 },
 "nbformat": 4,
 "nbformat_minor": 5
}
