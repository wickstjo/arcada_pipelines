{
 "cells": [
  {
   "cell_type": "code",
   "execution_count": 16,
   "id": "39adb988",
   "metadata": {},
   "outputs": [],
   "source": [
    "from confluent_kafka import Consumer, Producer\n",
    "import sys, json"
   ]
  },
  {
   "cell_type": "code",
   "execution_count": 3,
   "id": "adc224da",
   "metadata": {},
   "outputs": [],
   "source": [
    "KAFKA_SERVERS = 'localhost:11001,localhost:11002'\n",
    "VERBOSE = True"
   ]
  },
  {
   "cell_type": "code",
   "execution_count": 19,
   "id": "24f3e1d3",
   "metadata": {},
   "outputs": [],
   "source": [
    "class create_producer:\n",
    "\n",
    "    # ON LOAD, CREATE KAFKA PRODUCER\n",
    "    def __init__(self):\n",
    "        KAFKA_SERVERS = 'localhost:11001,localhost:11002'\n",
    "        \n",
    "        self.kafka_client = Producer({\n",
    "            'bootstrap.servers': KAFKA_SERVERS,\n",
    "        })\n",
    "\n",
    "    # MAKE SURE KAFKA CONNECTION IS OK\n",
    "    def connected(self):\n",
    "        try:\n",
    "            metadata = self.kafka_client.list_topics(timeout=2)\n",
    "            print('SUCCESSFULLY CONNECTED TO KAFKA')\n",
    "            return True\n",
    "        except:\n",
    "            print(f'COULD NOT CONNECT WITH KAFKA SERVER ({KAFKA_SERVERS})')\n",
    "            return False\n",
    "\n",
    "    # ON CONSUMER CALLBACK, DO..\n",
    "    def ack_callback(self, error, message):\n",
    "        if error:\n",
    "            print('ACK ERROR', error)\n",
    "        else:\n",
    "            if VERBOSE: print(f'MESSAGE PUSHED')\n",
    "\n",
    "    # PUSH MESSAGE TO A KAFK TOPIC\n",
    "    def push_msg(self, topic_name: str, json_data: dict):\n",
    "\n",
    "        # PUSH MESSAGE TO KAFKA TOPIC\n",
    "        self.kafka_client.produce(\n",
    "            topic_name, \n",
    "            value=json.dumps(json_data).encode('utf-8'),\n",
    "            on_delivery=self.ack_callback,\n",
    "        )\n",
    "\n",
    "        # ASYNCRONOUSLY AWAIT CONSUMER ACK BEFORE SENDING NEXT MSG\n",
    "        self.kafka_client.poll(1)\n",
    "        # self.kafka_client.flush()"
   ]
  },
  {
   "cell_type": "code",
   "execution_count": null,
   "id": "87c7d267",
   "metadata": {},
   "outputs": [],
   "source": []
  },
  {
   "cell_type": "code",
   "execution_count": 20,
   "id": "2acae839",
   "metadata": {},
   "outputs": [],
   "source": [
    "prod = create_producer()"
   ]
  },
  {
   "cell_type": "code",
   "execution_count": 39,
   "id": "04ad8949",
   "metadata": {},
   "outputs": [
    {
     "name": "stdout",
     "output_type": "stream",
     "text": [
      "MESSAGE PUSHED\n"
     ]
    }
   ],
   "source": [
    "prod.push_msg('eyylmaoZ', {\n",
    "    'foo': 'biz',\n",
    "    'bar': 'baz'\n",
    "})"
   ]
  },
  {
   "cell_type": "code",
   "execution_count": null,
   "id": "a816525a",
   "metadata": {},
   "outputs": [],
   "source": []
  },
  {
   "cell_type": "code",
   "execution_count": 42,
   "id": "97b941a1",
   "metadata": {},
   "outputs": [
    {
     "name": "stdout",
     "output_type": "stream",
     "text": [
      "MESSAGE PUSHED\n"
     ]
    }
   ],
   "source": [
    "prod.push_msg('eyylmaoZ', {\n",
    "    'id': 5,\n",
    "    'name': 'baz'\n",
    "})"
   ]
  },
  {
   "cell_type": "code",
   "execution_count": null,
   "id": "dff8c314",
   "metadata": {},
   "outputs": [],
   "source": []
  },
  {
   "cell_type": "code",
   "execution_count": null,
   "id": "dc8fd313",
   "metadata": {},
   "outputs": [],
   "source": []
  },
  {
   "cell_type": "code",
   "execution_count": 28,
   "id": "343ae4ca",
   "metadata": {},
   "outputs": [
    {
     "data": {
      "text/plain": [
       "b'{\"foo\": \"bar\"}'"
      ]
     },
     "execution_count": 28,
     "metadata": {},
     "output_type": "execute_result"
    }
   ],
   "source": [
    "json.dumps({\n",
    "    'foo': 'bar'\n",
    "}).encode('utf-8')"
   ]
  },
  {
   "cell_type": "code",
   "execution_count": null,
   "id": "558e857a",
   "metadata": {},
   "outputs": [],
   "source": []
  },
  {
   "cell_type": "code",
   "execution_count": null,
   "id": "5872651e",
   "metadata": {},
   "outputs": [],
   "source": []
  },
  {
   "cell_type": "code",
   "execution_count": 5,
   "id": "56775f07",
   "metadata": {},
   "outputs": [],
   "source": [
    "class create_consumer:\n",
    "\n",
    "    # ON LOAD, CREATE KAFKA CONSUMER CLIENT\n",
    "    def __init__(self, kafka_topic):\n",
    "\n",
    "        # SET STATIC CONSUMPTION CONFIGS\n",
    "        self.kafka_topic = kafka_topic\n",
    "\n",
    "        # CREATE THE CONSUMER CLIENT\n",
    "        self.kafka_client = Consumer({\n",
    "            'bootstrap.servers': KAFKA_SERVERS,\n",
    "            'group.id': kafka_topic + '.consumers',\n",
    "            'enable.auto.commit': False,\n",
    "            'on_commit': self.ack_callback,\n",
    "            'auto.offset.reset': 'latest',\n",
    "            # 'auto.offset.reset': 'earliest'\n",
    "        })\n",
    "\n",
    "        # SUBSCRIBE TO THE KAFKA TOPIC\n",
    "        self.kafka_client.subscribe([kafka_topic], self.assigned, self.revoked, self.lost)\n",
    "\n",
    "    # WHEN CLASS DIES, KILL THE KAFKA CLIENT\n",
    "    def __del__(self):\n",
    "        log('KAFKA CLIENT CLOSED')\n",
    "        self.kafka_client.close()\n",
    "\n",
    "    # PARTITION ASSIGNMENT SUCCESS\n",
    "    def assigned(self, consumer, partition_data):\n",
    "        if VERBOSE:\n",
    "            partitions = [p.partition for p in partition_data]\n",
    "            log(f'CONSUMER ASSIGNED PARTITIONS: {partitions}')\n",
    "\n",
    "    # PARTITION ASSIGNMENT REVOKED\n",
    "    def revoked(self, consumer, partition_data):\n",
    "        if VERBOSE:\n",
    "            partitions = [p.partition for p in partition_data]\n",
    "            log(f'CONSUMER PARTITION ASSIGNMENT REVOKED: {partitions}')\n",
    "\n",
    "    # PARTITION ASSIGNMENT LOST\n",
    "    def lost(self, consumer, partition_data):\n",
    "        log(f'CONSUMER ASSIGNMENT LOST: {consumer} {partition_data}')\n",
    "\n",
    "    # MAKE SURE KAFKA CONNECTION IS OK\n",
    "    def connected(self):\n",
    "        try:\n",
    "            metadata = self.kafka_client.list_topics(timeout=2)\n",
    "            log('SUCCESSFULLY CONNECTED TO KAFKA')\n",
    "            return True\n",
    "        except:\n",
    "            log(f'COULD NOT CONNECT WITH KAFKA SERVER ({KAFKA_SERVERS})') \n",
    "            return False\n",
    "\n",
    "    # AUTO CALLBACK WHEN CONSUMER COMMITS MESSAGE\n",
    "    def ack_callback(self, error, partitions):\n",
    "        if error:\n",
    "            return print('ACK ERROR', error)\n",
    "\n",
    "    # START CONSUMING TOPIC EVENTS\n",
    "    def poll_next(self, nth_thread, thread_lock, on_message):\n",
    "        log(f'THREAD {nth_thread}: NOW POLLING')\n",
    "        \n",
    "        # KEEP POLLING WHILE LOCK IS ACTIVE\n",
    "        while thread_lock.is_active():\n",
    "            try:\n",
    "                # POLL NEXT MESSAGE\n",
    "                msg = self.kafka_client.poll(1)\n",
    "\n",
    "                # NULL MESSAGE -- SKIP\n",
    "                if msg is None:\n",
    "                    continue\n",
    "\n",
    "                # CATCH ERRORS\n",
    "                if msg.error():\n",
    "                    print('FAULTY EVENT RECEIVED', msg.error())\n",
    "                    continue\n",
    "\n",
    "                # COMMIT THE EVENT TO PREVENT OTHERS FROM TAKING IT\n",
    "                self.kafka_client.commit(msg, asynchronous=True)\n",
    "\n",
    "                # HANDLE THE EVENT VIA CALLBACK FUNC\n",
    "                if VERBOSE: log(f'THREAD {nth_thread}: EVENT RECEIVED ({self.kafka_topic})')\n",
    "                on_message(msg.value(), nth_thread)\n",
    "                if VERBOSE: log(f'THREAD {nth_thread}: EVENT HANDLED')\n",
    "\n",
    "            # SILENTLY DEAL WITH OTHER ERRORS\n",
    "            except Exception as error:\n",
    "                print('CONSUMER ERROR', error)\n",
    "                continue\n",
    "            \n",
    "        # LOCK WAS KILLED, THEREFORE THREAD LOOP ENDS\n",
    "        log(f'THREAD {nth_thread}: MANUALLY KILLED')"
   ]
  },
  {
   "cell_type": "code",
   "execution_count": null,
   "id": "aae87433",
   "metadata": {},
   "outputs": [],
   "source": []
  },
  {
   "cell_type": "code",
   "execution_count": null,
   "id": "710e366e",
   "metadata": {},
   "outputs": [],
   "source": []
  },
  {
   "cell_type": "code",
   "execution_count": null,
   "id": "864e4b6c",
   "metadata": {},
   "outputs": [],
   "source": []
  },
  {
   "cell_type": "code",
   "execution_count": null,
   "id": "6119287e",
   "metadata": {},
   "outputs": [],
   "source": []
  },
  {
   "cell_type": "code",
   "execution_count": null,
   "id": "190da81d",
   "metadata": {},
   "outputs": [],
   "source": []
  },
  {
   "cell_type": "code",
   "execution_count": null,
   "id": "9445c0cd",
   "metadata": {},
   "outputs": [],
   "source": []
  },
  {
   "cell_type": "code",
   "execution_count": null,
   "id": "96598b17",
   "metadata": {},
   "outputs": [],
   "source": []
  },
  {
   "cell_type": "code",
   "execution_count": null,
   "id": "10b648a1",
   "metadata": {},
   "outputs": [],
   "source": []
  },
  {
   "cell_type": "code",
   "execution_count": null,
   "id": "ba68922e",
   "metadata": {},
   "outputs": [],
   "source": []
  },
  {
   "cell_type": "code",
   "execution_count": null,
   "id": "3494c4f8",
   "metadata": {},
   "outputs": [],
   "source": []
  },
  {
   "cell_type": "code",
   "execution_count": null,
   "id": "414292b4",
   "metadata": {},
   "outputs": [],
   "source": []
  },
  {
   "cell_type": "code",
   "execution_count": null,
   "id": "1d05ad92",
   "metadata": {},
   "outputs": [],
   "source": []
  },
  {
   "cell_type": "code",
   "execution_count": null,
   "id": "f72518d8",
   "metadata": {},
   "outputs": [],
   "source": []
  },
  {
   "cell_type": "code",
   "execution_count": null,
   "id": "9de1de5c",
   "metadata": {},
   "outputs": [],
   "source": []
  },
  {
   "cell_type": "code",
   "execution_count": null,
   "id": "4a605c94",
   "metadata": {},
   "outputs": [],
   "source": []
  },
  {
   "cell_type": "code",
   "execution_count": null,
   "id": "094b223a",
   "metadata": {},
   "outputs": [],
   "source": []
  },
  {
   "cell_type": "code",
   "execution_count": null,
   "id": "27975d57",
   "metadata": {},
   "outputs": [],
   "source": []
  },
  {
   "cell_type": "code",
   "execution_count": null,
   "id": "78750787",
   "metadata": {},
   "outputs": [],
   "source": []
  },
  {
   "cell_type": "code",
   "execution_count": null,
   "id": "d58c39be",
   "metadata": {},
   "outputs": [],
   "source": []
  },
  {
   "cell_type": "code",
   "execution_count": null,
   "id": "46f06c66",
   "metadata": {},
   "outputs": [],
   "source": []
  },
  {
   "cell_type": "code",
   "execution_count": null,
   "id": "086e89f3",
   "metadata": {},
   "outputs": [],
   "source": []
  },
  {
   "cell_type": "code",
   "execution_count": null,
   "id": "54803488",
   "metadata": {},
   "outputs": [],
   "source": []
  },
  {
   "cell_type": "code",
   "execution_count": null,
   "id": "c2a0869a",
   "metadata": {},
   "outputs": [],
   "source": []
  },
  {
   "cell_type": "code",
   "execution_count": null,
   "id": "b5c2fcf4",
   "metadata": {},
   "outputs": [],
   "source": []
  },
  {
   "cell_type": "code",
   "execution_count": null,
   "id": "44902fff",
   "metadata": {},
   "outputs": [],
   "source": []
  },
  {
   "cell_type": "code",
   "execution_count": null,
   "id": "5a9fba03",
   "metadata": {},
   "outputs": [],
   "source": []
  }
 ],
 "metadata": {
  "kernelspec": {
   "display_name": "Python 3 (ipykernel)",
   "language": "python",
   "name": "python3"
  },
  "language_info": {
   "codemirror_mode": {
    "name": "ipython",
    "version": 3
   },
   "file_extension": ".py",
   "mimetype": "text/x-python",
   "name": "python",
   "nbconvert_exporter": "python",
   "pygments_lexer": "ipython3",
   "version": "3.10.12"
  }
 },
 "nbformat": 4,
 "nbformat_minor": 5
}
