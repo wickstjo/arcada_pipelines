{
 "cells": [
  {
   "cell_type": "code",
   "execution_count": 100,
   "id": "b2aed54e",
   "metadata": {},
   "outputs": [],
   "source": [
    "from cassandra.cluster import Cluster\n",
    "import re"
   ]
  },
  {
   "cell_type": "code",
   "execution_count": 160,
   "id": "e0494ab3",
   "metadata": {},
   "outputs": [],
   "source": [
    "class create_cassandra_instance:\n",
    "    def __init__(self):\n",
    "        cluster = Cluster([('localhost', 12001), ('localhost', 12002)])\n",
    "        self.instance = cluster.connect()\n",
    "\n",
    "    ########################################################################################################\n",
    "    ########################################################################################################\n",
    "\n",
    "    # FREELY EXECUTE ANY CQL QUERY\n",
    "    def query(self, query):\n",
    "        return self.instance.execute(query)\n",
    "\n",
    "    ########################################################################################################\n",
    "    ########################################################################################################\n",
    "    \n",
    "    # CASSANDRA DRIVER ERRORS ARE VERY MESSY\n",
    "    # THIS ATTEMPT TO PARSE THEM TO MAKE EVERYTHING MORE HUMAN-READABLE\n",
    "    def parse_error(self, error):\n",
    "        stringified_error = str(error)\n",
    "        \n",
    "        # TRY TO REGEX MATCH THE ERROR PATTERN\n",
    "        match = re.search(r'message=\"(.+)\"', stringified_error)\n",
    "\n",
    "        # MATCH FOUND, RETURN ISOLATED ERROR MSG\n",
    "        if match:\n",
    "            return match.group(1)\n",
    "        \n",
    "        # OTHERWISE, RETURN THE WHOLE THING\n",
    "        return stringified_error\n",
    "    \n",
    "    ########################################################################################################\n",
    "    ########################################################################################################\n",
    "\n",
    "    # READ DATA FROM THE DATABASE\n",
    "    def read(self, query: str) -> list[dict]:\n",
    "        try:\n",
    "            container = []\n",
    "\n",
    "            # PERFORM THE TABLE QUERY\n",
    "            query_result = self.instance.execute(query)\n",
    "\n",
    "            # PARSE EACH ROW AS A DICT\n",
    "            for item in query_result:\n",
    "                container.append(item._asdict())\n",
    "\n",
    "            return container\n",
    "        \n",
    "        # SAFELY CATCH ERRORS\n",
    "        except Exception as raw_error:\n",
    "            parsed_error = self.parse_error(raw_error)\n",
    "            print(f'CASSANDRA READ ERROR: {parsed_error}')\n",
    "    \n",
    "    ########################################################################################################\n",
    "    ########################################################################################################\n",
    "\n",
    "    # FULL DATABASE OVERVIEW (KEYSPACES)\n",
    "    def write(self, keyspace_table: str, row: dict):\n",
    "        try:\n",
    "\n",
    "            # SPLIT THE KEYS & VALUES\n",
    "            columns = list(row.keys())\n",
    "            values = list(row.values())\n",
    "\n",
    "            # STITCH TOGETHER THE QUERY STRING\n",
    "            query_string = f'INSERT INTO {keyspace_table} ('\n",
    "            query_string += ', '.join(columns)\n",
    "            query_string += ') values ('\n",
    "            query_string += ', '.join(['?'] * len(columns))\n",
    "            query_string += ');'\n",
    "            \n",
    "            # CONSTRUCT A PREPARED STATEMENT & EXECUTE THE DB WRITE\n",
    "            prepared_statement = self.instance.prepare(query_string)\n",
    "            self.instance.execute(prepared_statement, values)\n",
    "        \n",
    "        # SAFELY CATCH ERRORS\n",
    "        except Exception as raw_error:\n",
    "            parsed_error = self.parse_error(raw_error)\n",
    "            print(f'CASSANDRA WRITE ERROR: {parsed_error}')"
   ]
  },
  {
   "cell_type": "markdown",
   "id": "d53bd882",
   "metadata": {},
   "source": [
    "### CREATE A CASSANDRA INSTANCE"
   ]
  },
  {
   "cell_type": "code",
   "execution_count": 140,
   "id": "19ee6985",
   "metadata": {},
   "outputs": [],
   "source": [
    "cassandra = create_cassandra_instance()"
   ]
  },
  {
   "cell_type": "code",
   "execution_count": null,
   "id": "72297f54",
   "metadata": {},
   "outputs": [],
   "source": []
  },
  {
   "cell_type": "code",
   "execution_count": null,
   "id": "98fcd6ef",
   "metadata": {},
   "outputs": [],
   "source": []
  },
  {
   "cell_type": "markdown",
   "id": "ecabfc0a",
   "metadata": {},
   "source": [
    "### READ DATA FROM DB"
   ]
  },
  {
   "cell_type": "code",
   "execution_count": 158,
   "id": "96662613",
   "metadata": {},
   "outputs": [
    {
     "data": {
      "text/plain": [
       "[{'timestamp': 123126,\n",
       "  'close': 1.100000023841858,\n",
       "  'high': 3.299999952316284,\n",
       "  'low': 4.400000095367432,\n",
       "  'open': 2.200000047683716,\n",
       "  'volume': 5000},\n",
       " {'timestamp': 123123,\n",
       "  'close': 1.100000023841858,\n",
       "  'high': 3.299999952316284,\n",
       "  'low': 4.400000095367432,\n",
       "  'open': 2.200000047683716,\n",
       "  'volume': 5000},\n",
       " {'timestamp': 123127,\n",
       "  'close': 1.100000023841858,\n",
       "  'high': 3.299999952316284,\n",
       "  'low': 4.400000095367432,\n",
       "  'open': 2.200000047683716,\n",
       "  'volume': 5000}]"
      ]
     },
     "execution_count": 158,
     "metadata": {},
     "output_type": "execute_result"
    }
   ],
   "source": [
    "cassandra.read('SELECT * FROM testing_keyspace.testing_table')"
   ]
  },
  {
   "cell_type": "code",
   "execution_count": null,
   "id": "de919251",
   "metadata": {},
   "outputs": [],
   "source": []
  },
  {
   "cell_type": "code",
   "execution_count": null,
   "id": "96e3db9c",
   "metadata": {},
   "outputs": [],
   "source": []
  },
  {
   "cell_type": "markdown",
   "id": "630b9cec",
   "metadata": {},
   "source": [
    "### WRITE DATA TO DB"
   ]
  },
  {
   "cell_type": "code",
   "execution_count": 159,
   "id": "236386e2",
   "metadata": {},
   "outputs": [],
   "source": [
    "cassandra.write('testing_keyspace.testing_table', {\n",
    "    'timestamp': 123127,\n",
    "    'close': 1.1,\n",
    "    'open': 2.2,\n",
    "    'high': 3.3,\n",
    "    'low': 4.4,\n",
    "    'volume': 5000\n",
    "})"
   ]
  },
  {
   "cell_type": "code",
   "execution_count": null,
   "id": "f1038fb8",
   "metadata": {},
   "outputs": [],
   "source": []
  },
  {
   "cell_type": "code",
   "execution_count": null,
   "id": "38cbdcba",
   "metadata": {},
   "outputs": [],
   "source": []
  },
  {
   "cell_type": "code",
   "execution_count": 161,
   "id": "3fc0c693",
   "metadata": {},
   "outputs": [],
   "source": [
    "import random"
   ]
  },
  {
   "cell_type": "code",
   "execution_count": 189,
   "id": "aee3ac88",
   "metadata": {},
   "outputs": [
    {
     "data": {
      "text/plain": [
       "559678"
      ]
     },
     "execution_count": 189,
     "metadata": {},
     "output_type": "execute_result"
    }
   ],
   "source": [
    "int(random.uniform(1, 1000000))"
   ]
  },
  {
   "cell_type": "code",
   "execution_count": null,
   "id": "c8fb87b3",
   "metadata": {},
   "outputs": [],
   "source": []
  },
  {
   "cell_type": "code",
   "execution_count": null,
   "id": "0e54acbb",
   "metadata": {},
   "outputs": [],
   "source": []
  }
 ],
 "metadata": {
  "kernelspec": {
   "display_name": "Python 3 (ipykernel)",
   "language": "python",
   "name": "python3"
  },
  "language_info": {
   "codemirror_mode": {
    "name": "ipython",
    "version": 3
   },
   "file_extension": ".py",
   "mimetype": "text/x-python",
   "name": "python",
   "nbconvert_exporter": "python",
   "pygments_lexer": "ipython3",
   "version": "3.10.12"
  }
 },
 "nbformat": 4,
 "nbformat_minor": 5
}
