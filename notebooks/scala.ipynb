{
 "cells": [
  {
   "cell_type": "code",
   "execution_count": 2,
   "id": "4b450a46",
   "metadata": {
    "scrolled": true
   },
   "outputs": [],
   "source": [
    "// import $ivy.`com.typesafe.play::play-json:2.10.0-RC6`"
   ]
  },
  {
   "cell_type": "code",
   "execution_count": 107,
   "id": "e8b8b466",
   "metadata": {},
   "outputs": [
    {
     "data": {
      "text/plain": [
       "\u001b[32mimport \u001b[39m\u001b[36mplay.api.libs.json.{Json}\u001b[39m"
      ]
     },
     "execution_count": 107,
     "metadata": {},
     "output_type": "execute_result"
    }
   ],
   "source": [
    "import play.api.libs.json.{Json, OFormat, JsSuccess, JsError}"
   ]
  },
  {
   "cell_type": "code",
   "execution_count": 108,
   "id": "fb26f77b",
   "metadata": {},
   "outputs": [
    {
     "data": {
      "text/plain": [
       "\u001b[32mimport \u001b[39m\u001b[36mscala.reflect.{ClassTag}\u001b[39m"
      ]
     },
     "execution_count": 108,
     "metadata": {},
     "output_type": "execute_result"
    }
   ],
   "source": [
    "import scala.reflect.{ClassTag}"
   ]
  },
  {
   "cell_type": "code",
   "execution_count": 109,
   "id": "76705250",
   "metadata": {},
   "outputs": [
    {
     "data": {
      "text/plain": [
       "\u001b[36mjson_string\u001b[39m: \u001b[32mString\u001b[39m = \u001b[32m\"{\\\"foo\\\": \\\"bar\\\"}\"\u001b[39m"
      ]
     },
     "execution_count": 109,
     "metadata": {},
     "output_type": "execute_result"
    }
   ],
   "source": [
    "val json_string: String = \"\"\"{\"foo\": \"bar\"}\"\"\""
   ]
  },
  {
   "cell_type": "code",
   "execution_count": 110,
   "id": "e55b9379",
   "metadata": {},
   "outputs": [
    {
     "data": {
      "text/plain": [
       "\u001b[36mres109\u001b[39m: \u001b[32mString\u001b[39m = \u001b[32m\"{\\\"foo\\\": \\\"bar\\\"}\"\u001b[39m"
      ]
     },
     "execution_count": 110,
     "metadata": {},
     "output_type": "execute_result"
    }
   ],
   "source": [
    "json_string"
   ]
  },
  {
   "cell_type": "code",
   "execution_count": null,
   "id": "ebbe4005",
   "metadata": {},
   "outputs": [],
   "source": []
  },
  {
   "cell_type": "code",
   "execution_count": null,
   "id": "a50e12d0",
   "metadata": {},
   "outputs": [],
   "source": []
  },
  {
   "cell_type": "code",
   "execution_count": 111,
   "id": "7d824aad",
   "metadata": {},
   "outputs": [
    {
     "data": {
      "text/plain": [
       "defined \u001b[32mfunction\u001b[39m \u001b[36mparse_json\u001b[39m"
      ]
     },
     "execution_count": 111,
     "metadata": {},
     "output_type": "execute_result"
    }
   ],
   "source": [
    "def parse_json[T](json_string: String)(implicit format: OFormat[T]): Either[String, T] = {\n",
    "    try {\n",
    "        \n",
    "        // ATTEMPT TO PARSE THE STRING\n",
    "        val result = Json.parse(json_string).validate[T]\n",
    "        print(result)\n",
    "\n",
    "        result match {\n",
    "          case JsSuccess(value, _) => Right(value)\n",
    "          case JsError(errors) => Left(s\"$errors\")\n",
    "        }\n",
    "    } catch {\n",
    "        case error: Throwable => Left(s\"${error.getMessage}\")\n",
    "    }\n",
    "}"
   ]
  },
  {
   "cell_type": "code",
   "execution_count": 112,
   "id": "a1d286a7",
   "metadata": {},
   "outputs": [
    {
     "data": {
      "text/plain": [
       "defined \u001b[32mclass\u001b[39m \u001b[36mPerson\u001b[39m\n",
       "defined \u001b[32mobject\u001b[39m \u001b[36mPerson\u001b[39m"
      ]
     },
     "execution_count": 112,
     "metadata": {},
     "output_type": "execute_result"
    }
   ],
   "source": [
    "case class Person(foo: String, bar: String)\n",
    "object Person { implicit val personFormat: OFormat[Person] = Json.format[Person] }"
   ]
  },
  {
   "cell_type": "code",
   "execution_count": null,
   "id": "4a2de4ab",
   "metadata": {},
   "outputs": [],
   "source": []
  },
  {
   "cell_type": "code",
   "execution_count": 102,
   "id": "64697455",
   "metadata": {},
   "outputs": [
    {
     "name": "stdout",
     "output_type": "stream",
     "text": [
      "JsSuccess(Person(biz,baz),)"
     ]
    },
    {
     "data": {
      "text/plain": [
       "\u001b[36mjsonString\u001b[39m: \u001b[32mString\u001b[39m = \u001b[32m\"{\\\"foo\\\": \\\"biz\\\", \\\"bar\\\": \\\"baz\\\"}\"\u001b[39m\n",
       "\u001b[36mresult\u001b[39m: \u001b[32mEither\u001b[39m[\u001b[32mString\u001b[39m, \u001b[32mPerson\u001b[39m] = \u001b[33mRight\u001b[39m(\u001b[33mPerson\u001b[39m(\u001b[32m\"biz\"\u001b[39m, \u001b[32m\"baz\"\u001b[39m))\n",
       "\u001b[36mfoo\u001b[39m: \u001b[32mAny\u001b[39m = \u001b[33mPerson\u001b[39m(\u001b[32m\"biz\"\u001b[39m, \u001b[32m\"baz\"\u001b[39m)"
      ]
     },
     "execution_count": 102,
     "metadata": {},
     "output_type": "execute_result"
    }
   ],
   "source": [
    "val jsonString: String = \"\"\"{\"foo\": \"biz\", \"bar\": \"baz\"}\"\"\"\n",
    "val result = parse_json[Person](jsonString)\n",
    "\n",
    "val foo = result.fold(\n",
    "    error => println(s\"Failed to parse JSON: $error\"),  // Handle the Left case\n",
    "    person => person  // Handle the Right case\n",
    ")"
   ]
  },
  {
   "cell_type": "code",
   "execution_count": 92,
   "id": "f27b03c6",
   "metadata": {},
   "outputs": [
    {
     "data": {
      "text/plain": [
       "\u001b[36mres91\u001b[39m: \u001b[32mAny\u001b[39m = \u001b[33mPerson\u001b[39m(\u001b[32m\"biz\"\u001b[39m, \u001b[32m\"baz\"\u001b[39m)"
      ]
     },
     "execution_count": 92,
     "metadata": {},
     "output_type": "execute_result"
    }
   ],
   "source": [
    "foo"
   ]
  },
  {
   "cell_type": "code",
   "execution_count": null,
   "id": "560f83db",
   "metadata": {},
   "outputs": [],
   "source": []
  },
  {
   "cell_type": "code",
   "execution_count": null,
   "id": "07e5450a",
   "metadata": {},
   "outputs": [],
   "source": []
  },
  {
   "cell_type": "code",
   "execution_count": 94,
   "id": "0128b67c",
   "metadata": {},
   "outputs": [
    {
     "data": {
      "text/plain": [
       "\u001b[36mtest\u001b[39m: \u001b[32mPerson\u001b[39m = \u001b[33mPerson\u001b[39m(\u001b[32m\"foo\"\u001b[39m, \u001b[32m\"bar\"\u001b[39m)"
      ]
     },
     "execution_count": 94,
     "metadata": {},
     "output_type": "execute_result"
    }
   ],
   "source": [
    "val test = new Person(\"foo\", \"bar\")"
   ]
  },
  {
   "cell_type": "code",
   "execution_count": 96,
   "id": "ceac2fd1",
   "metadata": {},
   "outputs": [
    {
     "data": {
      "text/plain": [
       "\u001b[36mres95\u001b[39m: \u001b[32mString\u001b[39m = \u001b[32m\"bar\"\u001b[39m"
      ]
     },
     "execution_count": 96,
     "metadata": {},
     "output_type": "execute_result"
    }
   ],
   "source": [
    "test.bar"
   ]
  },
  {
   "cell_type": "code",
   "execution_count": null,
   "id": "cbfd4b62",
   "metadata": {},
   "outputs": [],
   "source": []
  },
  {
   "cell_type": "code",
   "execution_count": null,
   "id": "0f7aa5d5",
   "metadata": {},
   "outputs": [],
   "source": []
  },
  {
   "cell_type": "code",
   "execution_count": null,
   "id": "e57513fe",
   "metadata": {},
   "outputs": [],
   "source": []
  },
  {
   "cell_type": "code",
   "execution_count": null,
   "id": "8bee5d48",
   "metadata": {},
   "outputs": [],
   "source": []
  },
  {
   "cell_type": "code",
   "execution_count": null,
   "id": "61cc565a",
   "metadata": {},
   "outputs": [],
   "source": []
  },
  {
   "cell_type": "code",
   "execution_count": null,
   "id": "e8771255",
   "metadata": {},
   "outputs": [],
   "source": []
  },
  {
   "cell_type": "code",
   "execution_count": null,
   "id": "b8374c82",
   "metadata": {},
   "outputs": [],
   "source": []
  }
 ],
 "metadata": {
  "kernelspec": {
   "display_name": "scala-almond",
   "language": "scala",
   "name": "scala-almond"
  },
  "language_info": {
   "codemirror_mode": "text/x-scala",
   "file_extension": ".sc",
   "mimetype": "text/x-scala",
   "name": "scala",
   "nbconvert_exporter": "script",
   "version": "2.12.17"
  }
 },
 "nbformat": 4,
 "nbformat_minor": 5
}
